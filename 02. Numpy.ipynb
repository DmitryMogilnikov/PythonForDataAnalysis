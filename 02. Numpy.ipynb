{
 "cells": [
  {
   "cell_type": "markdown",
   "metadata": {},
   "source": [
    "# Задание 2.\n",
    "\n",
    "**NB. Все упражнения ниже нужно делать без использования циклов Python в явном (`while`, `for`) и неявном виде (list comprehension, `map`, `reduce` и пр)**\n",
    "\n",
    "Задания по манипуляциям с массивами чаще всего решаются в одно/два выражения. "
   ]
  },
  {
   "cell_type": "code",
   "execution_count": 189,
   "metadata": {},
   "outputs": [
    {
     "data": {
      "text/plain": [
       "array([[ 4, 35,  2, ..., 98, 21, 80],\n",
       "       [ 8, 13, 26, ..., 43, 47, 88],\n",
       "       [51, 60, 37, ..., 23, 14, 16],\n",
       "       ...,\n",
       "       [ 7,  7, 41, ..., 56, 17, 67],\n",
       "       [54,  7, 53, ..., 75, 34, 22],\n",
       "       [58, 25,  7, ...,  1,  1, 99]])"
      ]
     },
     "execution_count": 189,
     "metadata": {},
     "output_type": "execute_result"
    }
   ],
   "source": [
    "%matplotlib inline\n",
    "\n",
    "import numpy as np\n",
    "import scipy\n",
    "import matplotlib.pyplot as plt\n",
    "import seaborn as sns\n",
    "sns.set_theme()\n",
    "\n",
    "A = np.random.randint(0, 100, size=(200, 50))\n",
    "A"
   ]
  },
  {
   "cell_type": "markdown",
   "metadata": {},
   "source": [
    "# Задание 2.1 (2 балла)\n",
    "\n",
    "Сгенерируйте новый массив, в котором столбцы массива `A` переставлены в случайном порядке"
   ]
  },
  {
   "cell_type": "markdown",
   "metadata": {},
   "source": [
    "Для случайной перестановки столбцов массива можно использовать две команды:\n",
    "- np.random.permutation(array) - сохраняет исходный массив, возвращает изменённый новый массив\n",
    "- np.random.shuffle(array) - изменяет сам входной массив.\n",
    "\n",
    "Для многомерного массива происходит перестановка по первой оси, то есть для двумерного массива будут перемешаны строки, значин предварительно нужно транспонировать массив. \n",
    "\n",
    "Рассмотрим сначала на более наглядном примере:"
   ]
  },
  {
   "cell_type": "code",
   "execution_count": 2,
   "metadata": {},
   "outputs": [
    {
     "data": {
      "text/plain": [
       "array([[88,  5, 99, 77, 12],\n",
       "       [ 5, 67, 45, 88, 74],\n",
       "       [69, 14, 29,  6, 66],\n",
       "       [54,  0, 83, 30, 11],\n",
       "       [75,  1, 60, 58, 12]])"
      ]
     },
     "execution_count": 2,
     "metadata": {},
     "output_type": "execute_result"
    }
   ],
   "source": [
    "test_array = np.random.randint(0, 100, size=(5, 5))\n",
    "test_array"
   ]
  },
  {
   "cell_type": "code",
   "execution_count": 191,
   "metadata": {},
   "outputs": [
    {
     "data": {
      "text/plain": [
       "array([[88, 12, 99,  5, 77],\n",
       "       [ 5, 74, 45, 67, 88],\n",
       "       [69, 66, 29, 14,  6],\n",
       "       [54, 11, 83,  0, 30],\n",
       "       [75, 12, 60,  1, 58]])"
      ]
     },
     "execution_count": 191,
     "metadata": {},
     "output_type": "execute_result"
    }
   ],
   "source": [
    "np.random.permutation(test_array.transpose()).transpose()"
   ]
  },
  {
   "cell_type": "markdown",
   "metadata": {},
   "source": [
    "Тогда применим эту функцию к массиву А и получим случайную перестановку столбцов"
   ]
  },
  {
   "cell_type": "code",
   "execution_count": 4,
   "metadata": {},
   "outputs": [
    {
     "data": {
      "text/plain": [
       "array([[55, 34, 75, ..., 87, 30, 71],\n",
       "       [ 8, 36, 49, ..., 67, 73, 39],\n",
       "       [39, 35, 78, ..., 13, 68, 72],\n",
       "       ...,\n",
       "       [43,  6, 55, ..., 16, 13,  9],\n",
       "       [49,  4, 86, ..., 77, 49, 83],\n",
       "       [52, 60, 37, ..., 20, 83, 34]])"
      ]
     },
     "execution_count": 4,
     "metadata": {},
     "output_type": "execute_result"
    }
   ],
   "source": [
    "np.random.permutation(A.transpose()).transpose()"
   ]
  },
  {
   "cell_type": "markdown",
   "metadata": {},
   "source": [
    "# Задание 2.2 (5 баллов)\n",
    "\n",
    "Сгенерируйте новый массив, который содержит только те строки массива `A`, в которых: \n",
    "- сумма элементов по четным столбцам (индексы $0, 2, \\ldots$) больше среднего значения (по всему массиву) суммы элементов по нечетным столбцам (индексы $1, 3, \\ldots$) "
   ]
  },
  {
   "cell_type": "markdown",
   "metadata": {},
   "source": [
    "Проссумируем элементы по нечетным столбцам и возьмет среднее значение:"
   ]
  },
  {
   "cell_type": "code",
   "execution_count": 5,
   "metadata": {},
   "outputs": [
    {
     "data": {
      "text/plain": [
       "1235.725"
      ]
     },
     "execution_count": 5,
     "metadata": {},
     "output_type": "execute_result"
    }
   ],
   "source": [
    "mean_odd = np.sum(A[:,1::2], axis=1).mean()\n",
    "mean_odd"
   ]
  },
  {
   "cell_type": "markdown",
   "metadata": {},
   "source": [
    "Создадим маску проверки условия, что сумма элементов по четным столбцам больше среднего значения суммы по нечетным столбцам"
   ]
  },
  {
   "cell_type": "code",
   "execution_count": 192,
   "metadata": {},
   "outputs": [],
   "source": [
    "mask = np.sum(A[:,0::2], axis=1) > mean_odd"
   ]
  },
  {
   "cell_type": "code",
   "execution_count": 7,
   "metadata": {},
   "outputs": [
    {
     "data": {
      "text/plain": [
       "array([[36, 19, 14, ..., 38, 49, 81],\n",
       "       [ 8, 70,  3, ..., 74, 66, 94],\n",
       "       [53, 82, 83, ..., 64, 57, 62],\n",
       "       ...,\n",
       "       [73, 31, 67, ..., 51, 87, 41],\n",
       "       [71, 52, 91, ..., 58, 81, 46],\n",
       "       [16, 45, 52, ..., 77, 72, 99]])"
      ]
     },
     "execution_count": 7,
     "metadata": {},
     "output_type": "execute_result"
    }
   ],
   "source": [
    "A[mask, :]"
   ]
  },
  {
   "cell_type": "markdown",
   "metadata": {},
   "source": [
    "# Задача 2.3 (3 балла)\n",
    "\n",
    "Найдите индекс строки массива `A`, в которой разница между максимальным и минимальным элементом максимальна"
   ]
  },
  {
   "cell_type": "code",
   "execution_count": 8,
   "metadata": {},
   "outputs": [
    {
     "data": {
      "text/plain": [
       "3"
      ]
     },
     "execution_count": 8,
     "metadata": {},
     "output_type": "execute_result"
    }
   ],
   "source": [
    "np.argmax(np.max(A, axis=1) - np.min(A, axis=1))"
   ]
  },
  {
   "cell_type": "markdown",
   "metadata": {},
   "source": [
    "# Задание 2.4 (7 баллов)\n",
    "\n",
    "Сгенерируйте массив той же размерности, что и `A`, но в котором каждый элемент заменен на его порядковый номер (начиная с 1) в отсортированном по возрастанию массиве из элементов `A`\n",
    "\n",
    "Если `A` выглядит так:\n",
    "$$\n",
    "\\begin{pmatrix}\n",
    "12 & 14\\\\\n",
    "1 & 2\n",
    "\\end{pmatrix}\n",
    "$$\n",
    "то результат должен быть\n",
    "$$\n",
    "\\begin{pmatrix}\n",
    "3 & 4\\\\\n",
    "1 & 2\n",
    "\\end{pmatrix}\n",
    "$$\n",
    "\n",
    "*Tip: рассмотрите возможность неоднократного применения [argsort()](https://numpy.org/doc/stable/reference/generated/numpy.ndarray.argsort.html)*"
   ]
  },
  {
   "cell_type": "code",
   "execution_count": 141,
   "metadata": {},
   "outputs": [
    {
     "data": {
      "text/plain": [
       "array([[3430, 8205, 7315, ..., 8206, 2623, 9125],\n",
       "       [3554, 1866, 1431, ..., 3805, 4951, 8183],\n",
       "       [3464, 1484, 9235, ..., 9204, 9089, 2312],\n",
       "       ...,\n",
       "       [ 639, 2037, 6110, ..., 4622, 4618, 7884],\n",
       "       [ 478, 9000, 4916, ...,  566, 9286, 5188],\n",
       "       [5994,  182, 1216, ..., 7243, 7281, 1553]])"
      ]
     },
     "execution_count": 141,
     "metadata": {},
     "output_type": "execute_result"
    }
   ],
   "source": [
    "np.argsort(np.argsort(np.ravel(A))).reshape(A.shape)"
   ]
  },
  {
   "cell_type": "markdown",
   "metadata": {},
   "source": [
    "# Задание 2.5 (2 балла)\n",
    "\n",
    "Примените $\\min-\\max$ - нормализацию к строкам массива `A`. То есть нужно получить новый массивы, в каждой строке которого максимальный элементы равен $1$, минимальный - $0$. "
   ]
  },
  {
   "cell_type": "code",
   "execution_count": 13,
   "metadata": {},
   "outputs": [],
   "source": [
    "rows_count = A.shape[0]\n",
    "min_args = A.min(axis=1).reshape(rows_count, 1)\n",
    "max_args = A.max(axis=1).reshape(rows_count, 1)"
   ]
  },
  {
   "cell_type": "code",
   "execution_count": 14,
   "metadata": {},
   "outputs": [
    {
     "data": {
      "text/plain": [
       "array([[0.34693878, 0.83673469, 0.74489796, ..., 0.83673469, 0.26530612,\n",
       "        0.92857143],\n",
       "       [0.35714286, 0.18367347, 0.13265306, ..., 0.37755102, 0.48979592,\n",
       "        0.81632653],\n",
       "       [0.34736842, 0.12631579, 0.94736842, ..., 0.94736842, 0.92631579,\n",
       "        0.22105263],\n",
       "       ...,\n",
       "       [0.06315789, 0.21052632, 0.64210526, ..., 0.49473684, 0.48421053,\n",
       "        0.83157895],\n",
       "       [0.02061856, 0.89690722, 0.48453608, ..., 0.03092784, 0.92783505,\n",
       "        0.51546392],\n",
       "       [0.62105263, 0.        , 0.11578947, ..., 0.74736842, 0.74736842,\n",
       "        0.14736842]])"
      ]
     },
     "execution_count": 14,
     "metadata": {},
     "output_type": "execute_result"
    }
   ],
   "source": [
    "(A - min_args) / (max_args - min_args)"
   ]
  },
  {
   "cell_type": "markdown",
   "metadata": {},
   "source": [
    "# Задание 2.6 (2 балла)\n",
    "\n",
    "Сгенерируйте новый трехмерный массив, размерности $10 \\times 200 \\times 50$. Подмассивы по нулевой оси должны состоять из элементов `A`, умноженных на $1 - 10$ соответственно"
   ]
  },
  {
   "cell_type": "code",
   "execution_count": 51,
   "metadata": {},
   "outputs": [
    {
     "data": {
      "text/plain": [
       "array([[[ 34,  82,  73, ...,  82,  26,  91],\n",
       "        [ 36,  19,  14, ...,  38,  49,  81],\n",
       "        [ 35,  14,  92, ...,  92,  90,  23],\n",
       "        ...,\n",
       "        [  6,  20,  61, ...,  47,  46,  79],\n",
       "        [  4,  89,  49, ...,   5,  92,  52],\n",
       "        [ 60,   1,  12, ...,  72,  72,  15]],\n",
       "\n",
       "       [[ 68, 164, 146, ..., 164,  52, 182],\n",
       "        [ 72,  38,  28, ...,  76,  98, 162],\n",
       "        [ 70,  28, 184, ..., 184, 180,  46],\n",
       "        ...,\n",
       "        [ 12,  40, 122, ...,  94,  92, 158],\n",
       "        [  8, 178,  98, ...,  10, 184, 104],\n",
       "        [120,   2,  24, ..., 144, 144,  30]],\n",
       "\n",
       "       [[102, 246, 219, ..., 246,  78, 273],\n",
       "        [108,  57,  42, ..., 114, 147, 243],\n",
       "        [105,  42, 276, ..., 276, 270,  69],\n",
       "        ...,\n",
       "        [ 18,  60, 183, ..., 141, 138, 237],\n",
       "        [ 12, 267, 147, ...,  15, 276, 156],\n",
       "        [180,   3,  36, ..., 216, 216,  45]],\n",
       "\n",
       "       ...,\n",
       "\n",
       "       [[272, 656, 584, ..., 656, 208, 728],\n",
       "        [288, 152, 112, ..., 304, 392, 648],\n",
       "        [280, 112, 736, ..., 736, 720, 184],\n",
       "        ...,\n",
       "        [ 48, 160, 488, ..., 376, 368, 632],\n",
       "        [ 32, 712, 392, ...,  40, 736, 416],\n",
       "        [480,   8,  96, ..., 576, 576, 120]],\n",
       "\n",
       "       [[306, 738, 657, ..., 738, 234, 819],\n",
       "        [324, 171, 126, ..., 342, 441, 729],\n",
       "        [315, 126, 828, ..., 828, 810, 207],\n",
       "        ...,\n",
       "        [ 54, 180, 549, ..., 423, 414, 711],\n",
       "        [ 36, 801, 441, ...,  45, 828, 468],\n",
       "        [540,   9, 108, ..., 648, 648, 135]],\n",
       "\n",
       "       [[340, 820, 730, ..., 820, 260, 910],\n",
       "        [360, 190, 140, ..., 380, 490, 810],\n",
       "        [350, 140, 920, ..., 920, 900, 230],\n",
       "        ...,\n",
       "        [ 60, 200, 610, ..., 470, 460, 790],\n",
       "        [ 40, 890, 490, ...,  50, 920, 520],\n",
       "        [600,  10, 120, ..., 720, 720, 150]]])"
      ]
     },
     "execution_count": 51,
     "metadata": {},
     "output_type": "execute_result"
    }
   ],
   "source": [
    "np.cumsum(np.tile(A, (10, 1, 1)), axis=0)"
   ]
  },
  {
   "cell_type": "markdown",
   "metadata": {},
   "source": [
    "# Задание 2.7 (2 балла)\n",
    "\n",
    "Создайте новый массив, такой же размерности, как и `A`, в котором сначала сгруппированы четные столбцы `A`, потом  нечетные. Используйте [np.concat()](https://numpy.org/doc/stable/reference/generated/numpy.concatenate.html) "
   ]
  },
  {
   "cell_type": "code",
   "execution_count": 63,
   "metadata": {},
   "outputs": [
    {
     "data": {
      "text/plain": [
       "array([[34, 73, 23, ..., 23, 82, 91],\n",
       "       [36, 14, 46, ..., 28, 38, 81],\n",
       "       [35, 92, 89, ...,  6, 92, 23],\n",
       "       ...,\n",
       "       [ 6, 61, 68, ..., 75, 47, 79],\n",
       "       [ 4, 49, 27, ..., 95,  5, 52],\n",
       "       [60, 12, 23, ..., 82, 72, 15]])"
      ]
     },
     "execution_count": 63,
     "metadata": {},
     "output_type": "execute_result"
    }
   ],
   "source": [
    "np.concatenate((A[:,0::2], A[:,1::2]), axis=1)"
   ]
  },
  {
   "cell_type": "markdown",
   "metadata": {},
   "source": [
    "# Задание 2.8 (2 балла)\n",
    "\n",
    "Посчитайте количество строк массива `A`, в который все элементы больше 5. Используйте [np.all()](https://numpy.org/doc/stable/reference/generated/numpy.all.html) "
   ]
  },
  {
   "cell_type": "code",
   "execution_count": 92,
   "metadata": {},
   "outputs": [
    {
     "data": {
      "text/plain": [
       "4"
      ]
     },
     "execution_count": 92,
     "metadata": {},
     "output_type": "execute_result"
    }
   ],
   "source": [
    "np.sum(np.all(A > 5, axis=1))"
   ]
  },
  {
   "cell_type": "markdown",
   "metadata": {},
   "source": [
    "# Задание 2.9 (2 балла)\n",
    "\n",
    "Поделите массив `A` горизонтально на 10 частей и создайте новый массив размерности $20 \\times 50$, который состоит из средних этих частей. Используйте [np.split()](https://numpy.org/doc/stable/reference/generated/numpy.split.html)"
   ]
  },
  {
   "cell_type": "code",
   "execution_count": 99,
   "metadata": {},
   "outputs": [
    {
     "data": {
      "text/plain": [
       "array([[55.4, 50.2, 39.4, 49.8, 40.4, 44.3, 47.4, 58.9, 45. , 37.1, 43.9,\n",
       "        63.3, 70.5, 38.2, 43.7, 50.6, 67.2, 45.4, 44.9, 48. , 66.5, 67.8,\n",
       "        43.6, 60. , 57.7, 26.5, 51.9, 47.6, 39.8, 53.5, 50.5, 46.7, 55.8,\n",
       "        57.6, 41.3, 59.7, 46.6, 50.9, 53.1, 54.8, 44.3, 59.2, 55.9, 35.4,\n",
       "        64.5, 39.3, 40.7, 58.8, 48.1, 48.5],\n",
       "       [56.5, 58.6, 45.5, 50.2, 52.4, 56.3, 49.3, 52.2, 53.5, 61.8, 61.1,\n",
       "        39.1, 45.3, 55.1, 52. , 57.5, 51. , 51.6, 61.7, 37.8, 45. , 50.4,\n",
       "        55.7, 38.3, 45.5, 45.7, 47.3, 40. , 40.9, 54.9, 52.7, 50.2, 50.9,\n",
       "        44.1, 50. , 59. , 29.9, 45.9, 60.1, 40.7, 52.7, 64.5, 46.7, 52.6,\n",
       "        60.2, 52.5, 63.4, 43.9, 46.3, 71.3],\n",
       "       [44.6, 61.6, 59.3, 44.7, 56.7, 36.5, 43.6, 34.7, 51.8, 56.2, 33.7,\n",
       "        43.2, 50.5, 44.4, 43.7, 39. , 35.3, 56.9, 46.5, 53.3, 53.1, 41. ,\n",
       "        61.9, 44. , 47.3, 47.4, 32.1, 30.8, 46.2, 53. , 25.3, 65.3, 38.4,\n",
       "        48.2, 53.5, 64.4, 43. , 46.2, 49.8, 38.9, 54.4, 59.9, 36.7, 54.6,\n",
       "        57. , 47.8, 47.9, 54.6, 52.1, 37.8],\n",
       "       [52.1, 56.6, 67.3, 47.1, 37.1, 52.9, 42.4, 55.4, 51.8, 47.5, 45. ,\n",
       "        47. , 26.8, 30.7, 45.6, 61.3, 67.7, 40.7, 41.9, 49.8, 59.3, 43.1,\n",
       "        55.5, 50.3, 54. , 40.7, 37.3, 63.7, 55.1, 49.2, 56.6, 48.8, 56.3,\n",
       "        39.2, 52.8, 62.8, 39.5, 48.7, 69.9, 49.6, 51.4, 53.4, 41. , 48.2,\n",
       "        69.1, 56.2, 52.2, 56.6, 60.7, 46.4],\n",
       "       [46.2, 44. , 48.1, 59.8, 39. , 48.2, 36. , 53.4, 47.1, 35.8, 59.2,\n",
       "        35. , 34.6, 53. , 45.9, 53.6, 33.7, 68.8, 45.4, 55. , 60.9, 46.6,\n",
       "        52.8, 60.5, 43. , 47. , 35.4, 50.7, 49.3, 42.7, 65.1, 37.2, 45.1,\n",
       "        56.5, 47.8, 37.1, 46.7, 44.5, 34.8, 54.2, 51. , 63.3, 48.7, 34.7,\n",
       "        42.3, 50.2, 47. , 50.2, 41.2, 60.1],\n",
       "       [57.6, 55.6, 36.6, 73.3, 62.9, 36.7, 45.3, 60.4, 40. , 52.7, 47.5,\n",
       "        43. , 50.2, 55.5, 51.7, 54.2, 36.3, 66.5, 58.6, 43.6, 36.2, 25. ,\n",
       "        48.4, 37.2, 59.6, 50.3, 54.9, 54.9, 53.7, 54. , 43.7, 40. , 52. ,\n",
       "        49.7, 48.6, 58.7, 67.7, 57.8, 56.4, 61.5, 50.7, 50.3, 49.8, 55.1,\n",
       "        49.3, 55.2, 60.8, 44.1, 46.5, 63.8],\n",
       "       [41.1, 40.5, 45.6, 57. , 55.4, 46.7, 38. , 51.1, 42.6, 60.6, 62.2,\n",
       "        51.6, 60.2, 24.9, 34.2, 56. , 51.6, 58.8, 68.2, 39.6, 50.4, 64.3,\n",
       "        36.7, 44.8, 41.1, 46.5, 46.4, 49.2, 54.1, 61.3, 56.8, 37. , 36.9,\n",
       "        49.6, 53.3, 42.4, 65.6, 45.9, 43. , 24. , 30.9, 56.4, 60.8, 41.2,\n",
       "        35.2, 47.8, 57.8, 57.7, 51.2, 35.8],\n",
       "       [57.1, 54.3, 35.1, 54.6, 56.5, 58.7, 66. , 47.7, 40.5, 46.5, 51.9,\n",
       "        42.3, 33.3, 51.5, 59.2, 43.8, 34.6, 35.7, 67.5, 53.3, 57.6, 44.3,\n",
       "        54. , 32.5, 51.4, 42.7, 57.4, 50.4, 51.2, 57.4, 51. , 46.8, 51.4,\n",
       "        57. , 53.1, 41.5, 47.1, 49.1, 41.2, 36.7, 67.5, 64.6, 67.6, 54.6,\n",
       "        54. , 45.4, 48. , 37.6, 36.9, 51.2],\n",
       "       [51.6, 59.8, 45. , 61.1, 61.2, 51.4, 54.7, 42.3, 42.2, 57.5, 56.1,\n",
       "        58.8, 57.2, 30.7, 52. , 62.5, 39.7, 48.3, 49.4, 48.9, 52.4, 37.1,\n",
       "        53. , 56.2, 55.3, 45.5, 66.9, 54.3, 56.8, 45. , 39.9, 55.4, 47.7,\n",
       "        72.9, 68.6, 40.3, 46.8, 48.9, 59.1, 53.1, 47.3, 46.7, 49.6, 60.4,\n",
       "        47.3, 63.5, 53.3, 41. , 38.5, 49.4],\n",
       "       [50.5, 44.7, 49.1, 61.6, 62.9, 49.3, 40.3, 41.1, 58.2, 67.1, 56.6,\n",
       "        45.3, 65.8, 53.9, 56.6, 59.4, 57.5, 46.5, 47.3, 63.8, 41.4, 50.6,\n",
       "        41.8, 39.2, 38.9, 56.4, 50. , 69.3, 52. , 57.2, 39.5, 52.6, 43.5,\n",
       "        50.8, 59.6, 53.2, 59.1, 41.6, 58.8, 61. , 68.1, 37.3, 40.6, 34.5,\n",
       "        55.1, 37.8, 42.5, 23.4, 36.4, 40.9],\n",
       "       [47.1, 55.3, 44.8, 35.5, 65.8, 47.5, 49.8, 49.1, 43.3, 56.9, 50.2,\n",
       "        39.9, 44.9, 40.9, 41.2, 47.2, 46.4, 48.3, 49.6, 61.6, 52.7, 62.1,\n",
       "        52.9, 42.4, 43.1, 50.2, 52.8, 69.7, 54.3, 41.9, 56.2, 35.1, 53.8,\n",
       "        39.8, 48.3, 60.8, 53.3, 57.3, 53.1, 60.6, 53.3, 57.2, 50.4, 47.9,\n",
       "        64.8, 32.9, 65.7, 54.9, 36.8, 57. ],\n",
       "       [49.3, 58.5, 34.7, 51.3, 62.5, 56. , 47.6, 66.2, 57.8, 35.9, 41.2,\n",
       "        49.6, 47.3, 31.6, 33.6, 32.4, 44.7, 42.8, 54. , 47.1, 36.2, 52.4,\n",
       "        56.7, 50. , 52.3, 52.2, 43.6, 61.3, 51.9, 52.6, 49.1, 70.7, 48.3,\n",
       "        50.8, 64.6, 49.1, 49.8, 58.8, 52.7, 51.3, 41. , 55.6, 47. , 49.2,\n",
       "        53.2, 53.9, 57.2, 49.8, 40.5, 57.7],\n",
       "       [52.6, 39. , 42.7, 48.6, 52.7, 33.9, 53.7, 45.1, 53.4, 52.3, 50.5,\n",
       "        38.2, 39.8, 32.6, 45.1, 47.8, 68. , 47.4, 43.3, 58.3, 52.9, 49.5,\n",
       "        43.7, 49.9, 62.5, 55.8, 51. , 39.5, 63.4, 63.5, 47.3, 58.5, 57.1,\n",
       "        51.7, 60.9, 45.3, 64.1, 34.5, 50. , 55.1, 46.2, 29.8, 49.7, 44. ,\n",
       "        51.8, 50.9, 57.4, 58.5, 58.4, 38.9],\n",
       "       [42.9, 36.4, 41.9, 60.4, 59.9, 51.7, 50.5, 55.7, 36.8, 42.3, 45.4,\n",
       "        59.2, 53.9, 38.2, 44.8, 52.5, 50.3, 37.2, 39.3, 45.9, 51. , 55.2,\n",
       "        56.2, 29.2, 41.9, 53.7, 62.4, 44.9, 47.8, 49.6, 44.9, 63.1, 51.3,\n",
       "        49.4, 39.5, 43.1, 53.1, 58.5, 40.4, 52.2, 49. , 43.5, 56.9, 39.4,\n",
       "        47.3, 34.6, 31.7, 35.3, 44.6, 56. ],\n",
       "       [52.1, 35.3, 53.1, 41.7, 51.5, 48.7, 44.3, 14.4, 58.9, 54.8, 62.6,\n",
       "        72.7, 47.4, 45.4, 41.5, 39.1, 48.7, 44.8, 34.5, 55.5, 39.7, 45.4,\n",
       "        55.6, 48.7, 58.8, 51.3, 51.9, 52.1, 76.2, 45.1, 40. , 54.2, 54.4,\n",
       "        41.2, 40.1, 51. , 32.5, 35.8, 52.2, 45.7, 38.1, 47.3, 52.5, 54.9,\n",
       "        36.9, 35. , 53.3, 53.1, 55.6, 36.2],\n",
       "       [60.4, 42.1, 65.4, 43.6, 53.8, 52.4, 43.7, 49. , 54.3, 55.9, 42.3,\n",
       "        41.2, 40.7, 58.7, 58.4, 59.5, 56.5, 48.5, 57.6, 55.9, 43.8, 40.1,\n",
       "        58.7, 45.9, 39.4, 44.4, 56.2, 48. , 44.2, 45.2, 63.9, 36.4, 63.3,\n",
       "        39.2, 48.3, 63. , 38.9, 50.3, 54.7, 34.3, 66.8, 47.4, 45.9, 34.3,\n",
       "        55.1, 57.9, 73. , 72.9, 43.8, 46.1],\n",
       "       [40.6, 47. , 42.9, 45.5, 38.9, 52.6, 59.3, 54.4, 64.9, 45.5, 41.9,\n",
       "        51.1, 48.2, 45.6, 43.3, 58.6, 28.7, 49.4, 33.9, 40. , 46.4, 48. ,\n",
       "        50.4, 50.6, 44.9, 39.7, 51.7, 61.3, 57.1, 59.3, 51.3, 52.1, 45. ,\n",
       "        47.7, 69.7, 59.7, 55.1, 49.8, 60.8, 38. , 42.4, 55.5, 44.5, 61.3,\n",
       "        42.8, 48.5, 49. , 53. , 55.2, 56.3],\n",
       "       [52.2, 42.1, 71.9, 43.2, 52.1, 54.5, 46.9, 65. , 27.3, 58.8, 44.8,\n",
       "        62. , 53.4, 49.4, 59.6, 50.5, 50.2, 36.1, 62.2, 50.6, 40.6, 38. ,\n",
       "        53.2, 48.6, 45.8, 54.3, 53.9, 56. , 66.8, 75.6, 27. , 44.4, 37.8,\n",
       "        44. , 39.7, 62.8, 54.1, 49.3, 57.9, 55.4, 48.9, 71.3, 62. , 51. ,\n",
       "        52.1, 56. , 55.2, 43.4, 52.3, 50.3],\n",
       "       [43.3, 48.7, 41.5, 55.9, 44.6, 54.8, 45.6, 48.2, 56.1, 65.4, 43.8,\n",
       "        39.3, 45.2, 49.3, 50.9, 53.8, 59.5, 50.2, 40.9, 52. , 53.1, 48.7,\n",
       "        51.5, 56.8, 54.4, 28.1, 48.6, 60.5, 49.6, 49.8, 65.6, 41.2, 60.1,\n",
       "        42.5, 41.4, 42.2, 34.2, 43.2, 61.7, 53.3, 48.5, 34.7, 47. , 49.9,\n",
       "        57.9, 67.6, 79.2, 51.3, 45.8, 46.2],\n",
       "       [48.1, 37.8, 45.8, 35.6, 62.3, 59.9, 57.5, 58.2, 48.3, 32.9, 46.9,\n",
       "        51.7, 60.8, 47.2, 51.7, 53.7, 50.1, 55.9, 51.9, 38.5, 67.9, 54.2,\n",
       "        30.6, 63.9, 41.7, 50.3, 44.6, 45.2, 52. , 44.4, 45.1, 47.9, 48.3,\n",
       "        45.8, 38.9, 56.8, 59.6, 34.1, 41.9, 42.2, 41.1, 42.5, 48.2, 51.4,\n",
       "        53.3, 48.7, 45.5, 55.8, 52.8, 48.8]])"
      ]
     },
     "execution_count": 99,
     "metadata": {},
     "output_type": "execute_result"
    }
   ],
   "source": [
    "np.mean(np.split(A, 10, axis=0), axis=0)"
   ]
  },
  {
   "cell_type": "markdown",
   "metadata": {},
   "source": [
    "# Задание 2.10 (4 балла)\n",
    "\n",
    "\"Разверните\" массив `A` в одномерный массив. Оставьте в нём только уникальные элементы в том же порядке, в котором они встречаются в массиве. Используйте [np.unique()](https://numpy.org/doc/stable/reference/generated/numpy.unique.html)"
   ]
  },
  {
   "cell_type": "markdown",
   "metadata": {},
   "source": [
    "Развернем массив:"
   ]
  },
  {
   "cell_type": "code",
   "execution_count": 110,
   "metadata": {},
   "outputs": [
    {
     "data": {
      "text/plain": [
       "array([34, 82, 73, ..., 72, 72, 15])"
      ]
     },
     "execution_count": 110,
     "metadata": {},
     "output_type": "execute_result"
    }
   ],
   "source": [
    "ravel_A = np.ravel(A)\n",
    "ravel_A"
   ]
  },
  {
   "cell_type": "code",
   "execution_count": 115,
   "metadata": {},
   "outputs": [],
   "source": [
    "uniq, indices = np.unique(ravel_A, return_index=True)\n"
   ]
  },
  {
   "cell_type": "markdown",
   "metadata": {},
   "source": [
    "Уникальные элементы в том порядке, в котором они встречаются в массиве:"
   ]
  },
  {
   "cell_type": "code",
   "execution_count": 116,
   "metadata": {},
   "outputs": [
    {
     "data": {
      "text/plain": [
       "array([34, 82, 73, 71, 23, 68, 46, 70, 72, 24, 41, 84, 98, 61,  7, 55, 74,\n",
       "       36, 53, 62, 78, 21, 28, 18, 13, 58, 48, 30,  3, 38, 33, 66, 57, 54,\n",
       "       92, 89,  0, 79, 87, 75, 26, 91, 19, 14, 39, 59, 81, 22,  1, 95, 67,\n",
       "        8, 99, 45, 90, 32, 97, 96, 29, 47, 86, 65, 42, 43, 63, 49, 35, 20,\n",
       "       88, 83, 51, 64,  4,  2, 10, 44, 27, 17, 93, 76, 52, 25,  9,  6, 56,\n",
       "        5, 11, 80, 37, 31, 77, 94, 60, 12, 16, 69, 50, 85, 40, 15])"
      ]
     },
     "execution_count": 116,
     "metadata": {},
     "output_type": "execute_result"
    }
   ],
   "source": [
    "uniq[np.argsort(indices)]"
   ]
  },
  {
   "cell_type": "markdown",
   "metadata": {},
   "source": [
    "# Задание 2.11 (3 балла)\n",
    "\n",
    "Создайте одномерный массив размерности $200$, в котором каждый элемент - евклидово расстояние между соответствующей строкой `A` и \"средней\" строкой `A`"
   ]
  },
  {
   "cell_type": "code",
   "execution_count": 160,
   "metadata": {},
   "outputs": [
    {
     "data": {
      "text/plain": [
       "array([186.46831936, 192.28739981, 209.07411156, 216.08749183,\n",
       "       193.52254165, 195.58513268, 182.69992919, 201.79520342,\n",
       "       201.81685788, 221.24589064, 207.18326217, 237.87577457,\n",
       "       224.47655585, 217.03410821, 209.74843057, 189.39523258,\n",
       "       212.43559995, 211.62122796, 188.86234173, 216.28655558,\n",
       "       195.56447562, 208.56832004, 217.79649704, 192.14565862,\n",
       "       206.86714124, 204.41603197, 213.80524812, 211.14510206,\n",
       "       184.95243747, 201.22744377, 203.30202686, 199.95768084,\n",
       "       211.41422404, 195.85842878, 214.22407457, 192.2822512 ,\n",
       "       196.45766497, 188.93084482, 202.91055696, 215.43120509,\n",
       "       214.51126806, 211.10486523, 187.76664806, 188.85471698,\n",
       "       206.46983829, 199.50755405, 198.24861696, 186.94366565,\n",
       "       208.69907553, 188.82998736, 185.74346321, 175.66406612,\n",
       "       182.07035488, 196.55872946, 205.07404547, 196.77208675,\n",
       "       219.47262728, 203.59355129, 202.71907687, 205.13177259,\n",
       "       205.76383094, 222.58875561, 185.26746645, 204.11289554,\n",
       "       200.80967139, 211.93195636, 210.94239528, 193.92123175,\n",
       "       211.65595698, 214.39091428, 203.875168  , 199.13436199,\n",
       "       204.8571066 , 222.19195333, 182.07587464, 235.52380798,\n",
       "       208.971874  , 213.04944056, 178.26074757, 195.30710209,\n",
       "       209.40984725, 229.25057061, 191.7838474 , 212.17781252,\n",
       "       187.59185517, 204.71600847, 198.40469784, 192.77651342,\n",
       "       199.31282981, 213.58624517, 216.78167387, 202.83146729,\n",
       "       194.7143398 , 190.09622333, 199.78824822, 233.70264039,\n",
       "       217.74070388, 184.51188072, 201.2014516 , 185.14670973,\n",
       "       212.84906419, 211.2285353 , 202.81975773, 194.1147705 ,\n",
       "       220.70651129, 217.44899201, 207.52333393, 186.2276406 ,\n",
       "       196.3368639 , 216.01931424, 186.02173025, 183.72603007,\n",
       "       184.82525294, 227.69124736, 191.30542105, 195.1557945 ,\n",
       "       199.98343463, 205.31362382, 204.26150916, 211.70114342,\n",
       "       202.47171191, 198.77450572, 214.22127375, 188.72393628,\n",
       "       224.09853664, 210.45055031, 218.05332863, 204.68129891,\n",
       "       206.73227645, 202.59169313, 200.63238553, 215.53311608,\n",
       "       213.52326366, 170.36811358, 221.48594566, 203.72300833,\n",
       "       204.76734145, 203.28840135, 206.691616  , 208.59476054,\n",
       "       218.3959801 , 163.39719742, 187.90913795, 200.09538757,\n",
       "       173.85952411, 199.1780714 , 218.73110004, 197.61121963,\n",
       "       173.99133348, 203.78617256, 228.98998695, 200.40125779,\n",
       "       213.51185945, 214.89845073, 204.48333459, 195.19148067,\n",
       "       200.20031   , 208.15905968, 205.52112817, 184.07801098,\n",
       "       191.44470253, 199.84024651, 207.25733793, 205.10059514,\n",
       "       219.19289251, 206.4306521 , 200.13721324, 199.56869525,\n",
       "       186.95388235, 186.71069633, 189.87905131, 212.44595577,\n",
       "       175.70021094, 185.60127727, 220.92187335, 218.82219751,\n",
       "       187.84492041, 200.61252235, 192.10844366, 179.77398067,\n",
       "       176.55623502, 201.54757286, 201.12656246, 184.26430508,\n",
       "       212.58189981, 202.13310992, 211.27883028, 209.03553316,\n",
       "       232.64596305, 197.80193155, 193.43635678, 211.25113994,\n",
       "       231.73155617, 203.87732617, 208.14140416, 200.88268747,\n",
       "       167.66047276, 208.66315948, 216.86167048, 194.25854968])"
      ]
     },
     "execution_count": 160,
     "metadata": {},
     "output_type": "execute_result"
    }
   ],
   "source": [
    "mean_row = np.mean(A, axis=0)\n",
    "np.linalg.norm(A - mean_row, axis=1)"
   ]
  },
  {
   "cell_type": "markdown",
   "metadata": {},
   "source": [
    "# Задание 2.12 (2 балла)\n",
    "\n",
    "Создайте новый массив, который состоит из элементов `A`, измененных по следующим правилам:\n",
    "- если элемент меньше $50$, то он умножается на $2$\n",
    "- в противном случае он умножается на $3$\n",
    "\n",
    "Используйте [np.where()](https://numpy.org/doc/stable/reference/generated/numpy.where.html)"
   ]
  },
  {
   "cell_type": "code",
   "execution_count": 161,
   "metadata": {},
   "outputs": [
    {
     "data": {
      "text/plain": [
       "array([[ 68, 246, 219, ..., 246,  52, 273],\n",
       "       [ 72,  38,  28, ...,  76,  98, 243],\n",
       "       [ 70,  28, 276, ..., 276, 270,  46],\n",
       "       ...,\n",
       "       [ 12,  40, 183, ...,  94,  92, 237],\n",
       "       [  8, 267,  98, ...,  10, 276, 156],\n",
       "       [180,   2,  24, ..., 216, 216,  30]])"
      ]
     },
     "execution_count": 161,
     "metadata": {},
     "output_type": "execute_result"
    }
   ],
   "source": [
    "np.where(A < 50, A * 2, A * 3)"
   ]
  },
  {
   "cell_type": "markdown",
   "metadata": {},
   "source": [
    "# Задание 2.13 (7 баллов)\n",
    "\n",
    "Разверните массив `A` в одномерный массив. Создайте новый массив той же размерности, состоящий из суммы скользящих средних по окну $3$, $5$, $10$.\n",
    "\n",
    "*Tip: реализуйте функцию, которая считает скользящее среднее. Используйте [np.cumsum()](https://numpy.org/doc/stable/reference/generated/numpy.cumsum.html) или [np.convolve()](https://numpy.org/doc/stable/reference/generated/numpy.convolve.html)*"
   ]
  },
  {
   "cell_type": "code",
   "execution_count": 283,
   "metadata": {},
   "outputs": [],
   "source": [
    "def moving_average(x: np.ndarray, n: int = 3) -> np.ndarray:\n",
    "    return np.round(np.convolve(x, np.ones(n), 'same') / n, 2)"
   ]
  },
  {
   "cell_type": "code",
   "execution_count": 284,
   "metadata": {},
   "outputs": [
    {
     "data": {
      "text/plain": [
       "array([ 4, 35,  2, ...,  1,  1, 99])"
      ]
     },
     "execution_count": 284,
     "metadata": {},
     "output_type": "execute_result"
    }
   ],
   "source": [
    "ravel_A = np.ravel(A)\n",
    "ravel_A"
   ]
  },
  {
   "cell_type": "markdown",
   "metadata": {},
   "source": [
    "Скользящее среднее по окну 3:"
   ]
  },
  {
   "cell_type": "code",
   "execution_count": 285,
   "metadata": {},
   "outputs": [
    {
     "data": {
      "text/plain": [
       "array([13.  , 13.67, 37.  , ..., 23.  , 33.67, 33.33])"
      ]
     },
     "execution_count": 285,
     "metadata": {},
     "output_type": "execute_result"
    }
   ],
   "source": [
    "moving_average(ravel_A, 3)"
   ]
  },
  {
   "cell_type": "markdown",
   "metadata": {},
   "source": [
    "Скользящее среднее по окну 5:"
   ]
  },
  {
   "cell_type": "code",
   "execution_count": 194,
   "metadata": {},
   "outputs": [
    {
     "data": {
      "text/plain": [
       "array([37.8, 52. , 56.6, ..., 55.6, 39.2, 31.8])"
      ]
     },
     "execution_count": 194,
     "metadata": {},
     "output_type": "execute_result"
    }
   ],
   "source": [
    "moving_average(ravel_A, 5)"
   ]
  },
  {
   "cell_type": "markdown",
   "metadata": {},
   "source": [
    "Скользящее среднее по окну 10:"
   ]
  },
  {
   "cell_type": "code",
   "execution_count": 195,
   "metadata": {},
   "outputs": [
    {
     "data": {
      "text/plain": [
       "array([28.3, 35.1, 39.7, ..., 37. , 31. , 29.8])"
      ]
     },
     "execution_count": 195,
     "metadata": {},
     "output_type": "execute_result"
    }
   ],
   "source": [
    "moving_average(ravel_A, 10)"
   ]
  },
  {
   "cell_type": "markdown",
   "metadata": {},
   "source": [
    "# Задание 2.14 (8 баллов)\n",
    "\n",
    "Постройте график функции $$f(x) = (5  \\sin(2x) - \\cos^2(x) - 1 + |x^3| - x^2) / (x^2 + 1)$$  \n",
    "\n",
    "и производной от этой функции.  Найдите минимум с помощью `scipy` и обозначьте его на графике. На этой же оси постройте графики скользящего среднего этой функции с окном $1$, $2$, $5$."
   ]
  },
  {
   "cell_type": "code",
   "execution_count": 318,
   "metadata": {},
   "outputs": [
    {
     "name": "stdout",
     "output_type": "stream",
     "text": [
      "<class 'numpy.ndarray'>\n",
      "Минимальное значение функции в точке:(-0.4975, -4.8821)\n"
     ]
    }
   ],
   "source": [
    "def f(x: np.ndarray) -> np.ndarray:\n",
    "    return (5 * np.sin(2 * x) - (np.cos(x))**2 - 1 + np.abs(x**3) - x**2) / (x**2 + 1)\n",
    "\n",
    "def deriv(x: np.ndarray) -> np.ndarray:\n",
    "    return scipy.misc.derivative(f, x)\n",
    "\n",
    "x = np.linspace(-10, 10, 100)\n",
    "y = f(x)\n",
    "\n",
    "x_min_value = float(scipy.optimize.minimize(f, 0).x)\n",
    "y_min_value = f(x_min_value)\n",
    "print(f\"Минимальное значение функции в точке:({x_min_value:0.4f}, {y_min_value:0.4f})\")"
   ]
  },
  {
   "cell_type": "code",
   "execution_count": 315,
   "metadata": {},
   "outputs": [],
   "source": [
    "mov_average_1 = moving_average(y, 1)\n",
    "mov_average_2 = moving_average(y, 2)\n",
    "mov_average_5 = moving_average(y, 5)"
   ]
  },
  {
   "cell_type": "code",
   "execution_count": 316,
   "metadata": {},
   "outputs": [
    {
     "data": {
      "image/png": "[encoded data removed]",
      "text/plain": [
       "<Figure size 640x480 with 1 Axes>"
      ]
     },
     "metadata": {},
     "output_type": "display_data"
    }
   ],
   "source": [
    "plt.plot(x, y, color='black', label='Function',linewidth=2)\n",
    "plt.plot(x, deriv(x), '--', c='blue', label='Derivative')\n",
    "plt.scatter(x_min_value, y_min_value, c='r', label='Minimum')\n",
    "plt.text(2., -5., f\"({x_min_value:0.4f}, {y_min_value:0.4f})\", horizontalalignment='center',\n",
    "         fontsize=8, color='red')\n",
    "\n",
    "plt.plot(x, mov_average_1, ':', c='yellow', label='Moving average - 1')\n",
    "plt.plot(x, mov_average_2, '-.', c='purple', label='Moving average - 2')\n",
    "plt.plot(x, mov_average_5, '--', c='green', label='Moving average - 5')\n",
    "\n",
    "plt.legend(loc='upper center')\n",
    "plt.show()"
   ]
  },
  {
   "cell_type": "markdown",
   "metadata": {},
   "source": [
    "# Задание 2.15 (10 баллов)\n",
    "\n",
    "Есть следующий алгоритм семплинирования, на вход функции подается вектор из целых положительных чисел и число семплов."
   ]
  },
  {
   "cell_type": "code",
   "execution_count": 307,
   "metadata": {},
   "outputs": [
    {
     "data": {
      "text/plain": [
       "[0, 4, 0, 4, 4]"
      ]
     },
     "execution_count": 307,
     "metadata": {},
     "output_type": "execute_result"
    }
   ],
   "source": [
    "from typing import List \n",
    "\n",
    "def sample(x: List[int], c: int) -> List[int]:\n",
    "    assert len(x) > 0\n",
    "    \n",
    "    s = np.sum(x)\n",
    "    res = []\n",
    "    for _ in range(c):\n",
    "        val = s * np.random.random()\n",
    "        cur, idx = 0, 0        \n",
    "        while cur + x[idx] <= val:\n",
    "            cur += x[idx]\n",
    "            idx += 1\n",
    "            \n",
    "        res.append(idx)\n",
    "    return res\n",
    "\n",
    "            \n",
    "sample([50, 3, 1, 7, 20], 5)   "
   ]
  },
  {
   "cell_type": "markdown",
   "metadata": {},
   "source": [
    "Реализуйте данный алгоритм более оптимальным способом на массивах `numpy`, без использования циклов. Проверьте корректность и идентичность алгоритмов семплирования с помощью статистических тестов."
   ]
  },
  {
   "cell_type": "markdown",
   "metadata": {},
   "source": []
  }
 ],
 "metadata": {
  "kernelspec": {
   "display_name": "Python 3.10.6 64-bit",
   "language": "python",
   "name": "python3"
  },
  "language_info": {
   "codemirror_mode": {
    "name": "ipython",
    "version": 3
   },
   "file_extension": ".py",
   "mimetype": "text/x-python",
   "name": "python",
   "nbconvert_exporter": "python",
   "pygments_lexer": "ipython3",
   "version": "3.10.6"
  },
  "orig_nbformat": 4,
  "vscode": {
   "interpreter": {
    "hash": "916dbcbb3f70747c44a77c7bcd40155683ae19c65e1c03b4aa3499c5328201f1"
   }
  }
 },
 "nbformat": 4,
 "nbformat_minor": 2
}
