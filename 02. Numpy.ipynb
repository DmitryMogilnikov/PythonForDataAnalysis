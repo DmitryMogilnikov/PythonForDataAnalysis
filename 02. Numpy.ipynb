{
 "cells": [
  {
   "cell_type": "markdown",
   "metadata": {},
   "source": [
    "# Задание 2.\n",
    "\n",
    "**NB. Все упражнения ниже нужно делать без использования циклов Python в явном (`while`, `for`) и неявном виде (list comprehension, `map`, `reduce` и пр)**\n",
    "\n",
    "Задания по манипуляциям с массивами чаще всего решаются в одно/два выражения. "
   ]
  },
  {
   "cell_type": "code",
   "execution_count": 2,
   "metadata": {},
   "outputs": [
    {
     "data": {
      "text/plain": [
       "array([[90, 35, 19, ...,  4, 17, 11],\n",
       "       [85, 20, 34, ..., 56, 39,  4],\n",
       "       [85, 77,  6, ..., 29, 16, 85],\n",
       "       ...,\n",
       "       [23, 68, 89, ..., 92, 19, 10],\n",
       "       [92, 87, 86, ..., 44, 22,  7],\n",
       "       [44, 76, 65, ..., 41, 35, 94]])"
      ]
     },
     "execution_count": 2,
     "metadata": {},
     "output_type": "execute_result"
    }
   ],
   "source": [
    "%matplotlib inline\n",
    "\n",
    "import numpy as np\n",
    "import scipy\n",
    "import matplotlib.pyplot as plt\n",
    "import seaborn as sns\n",
    "sns.set_theme()\n",
    "\n",
    "A = np.random.randint(0, 100, size=(200, 50))\n",
    "A"
   ]
  },
  {
   "cell_type": "markdown",
   "metadata": {},
   "source": [
    "# Задание 2.1 (2 балла)\n",
    "\n",
    "Сгенерируйте новый массив, в котором столбцы массива `A` переставлены в случайном порядке"
   ]
  },
  {
   "cell_type": "markdown",
   "metadata": {},
   "source": [
    "Для случайной перестановки столбцов массива можно использовать две команды:\n",
    "- np.random.permutation(array) - сохраняет исходный массив, возвращает изменённый новый массив\n",
    "- np.random.shuffle(array) - изменяет сам входной массив.\n",
    "\n",
    "Для многомерного массива происходит перестановка по первой оси, то есть для двумерного массива будут перемешаны строки, значин предварительно нужно транспонировать массив. \n",
    "\n",
    "Рассмотрим сначала на более наглядном примере:"
   ]
  },
  {
   "cell_type": "code",
   "execution_count": 3,
   "metadata": {},
   "outputs": [
    {
     "data": {
      "text/plain": [
       "array([[41, 10, 19, 27, 69],\n",
       "       [ 8, 37, 93, 74, 60],\n",
       "       [37,  9, 67,  7, 55],\n",
       "       [ 5, 55, 23, 50, 75],\n",
       "       [68, 87,  3,  7,  5]])"
      ]
     },
     "execution_count": 3,
     "metadata": {},
     "output_type": "execute_result"
    }
   ],
   "source": [
    "test_array = np.random.randint(0, 100, size=(5, 5))\n",
    "test_array"
   ]
  },
  {
   "cell_type": "code",
   "execution_count": 4,
   "metadata": {},
   "outputs": [
    {
     "data": {
      "text/plain": [
       "array([[19, 10, 27, 69, 41],\n",
       "       [93, 37, 74, 60,  8],\n",
       "       [67,  9,  7, 55, 37],\n",
       "       [23, 55, 50, 75,  5],\n",
       "       [ 3, 87,  7,  5, 68]])"
      ]
     },
     "execution_count": 4,
     "metadata": {},
     "output_type": "execute_result"
    }
   ],
   "source": [
    "np.random.permutation(test_array.transpose()).transpose()"
   ]
  },
  {
   "cell_type": "markdown",
   "metadata": {},
   "source": [
    "Тогда применим эту функцию к массиву А и получим случайную перестановку столбцов"
   ]
  },
  {
   "cell_type": "code",
   "execution_count": 5,
   "metadata": {},
   "outputs": [
    {
     "data": {
      "text/plain": [
       "array([[90, 82, 19, ..., 99, 17,  6],\n",
       "       [34, 69, 80, ..., 31, 39, 24],\n",
       "       [72, 60, 31, ..., 42, 16, 87],\n",
       "       ...,\n",
       "       [95, 76, 26, ..., 40, 19, 18],\n",
       "       [97, 66,  5, ..., 12, 22, 32],\n",
       "       [85,  2, 34, ..., 60, 35, 32]])"
      ]
     },
     "execution_count": 5,
     "metadata": {},
     "output_type": "execute_result"
    }
   ],
   "source": [
    "np.random.permutation(A.transpose()).transpose()"
   ]
  },
  {
   "cell_type": "markdown",
   "metadata": {},
   "source": [
    "# Задание 2.2 (5 баллов)\n",
    "\n",
    "Сгенерируйте новый массив, который содержит только те строки массива `A`, в которых: \n",
    "- сумма элементов по четным столбцам (индексы $0, 2, \\ldots$) больше среднего значения (по всему массиву) суммы элементов по нечетным столбцам (индексы $1, 3, \\ldots$) "
   ]
  },
  {
   "cell_type": "markdown",
   "metadata": {},
   "source": [
    "Проссумируем элементы по нечетным столбцам и возьмет среднее значение:"
   ]
  },
  {
   "cell_type": "code",
   "execution_count": 6,
   "metadata": {},
   "outputs": [
    {
     "data": {
      "text/plain": [
       "1243.37"
      ]
     },
     "execution_count": 6,
     "metadata": {},
     "output_type": "execute_result"
    }
   ],
   "source": [
    "mean_odd = np.sum(A[:,1::2], axis=1).mean()\n",
    "mean_odd"
   ]
  },
  {
   "cell_type": "markdown",
   "metadata": {},
   "source": [
    "Создадим маску проверки условия, что сумма элементов по четным столбцам больше среднего значения суммы по нечетным столбцам"
   ]
  },
  {
   "cell_type": "code",
   "execution_count": 7,
   "metadata": {},
   "outputs": [],
   "source": [
    "mask = np.sum(A[:,0::2], axis=1) > mean_odd"
   ]
  },
  {
   "cell_type": "code",
   "execution_count": 8,
   "metadata": {},
   "outputs": [
    {
     "data": {
      "text/plain": [
       "array([[90, 35, 19, ...,  4, 17, 11],\n",
       "       [12, 76, 38, ..., 58, 59,  6],\n",
       "       [30, 68, 66, ..., 74, 11, 18],\n",
       "       ...,\n",
       "       [ 4,  5, 12, ..., 25, 90, 94],\n",
       "       [58, 58, 66, ..., 59, 83, 54],\n",
       "       [ 3,  8, 57, ..., 63, 77, 66]])"
      ]
     },
     "execution_count": 8,
     "metadata": {},
     "output_type": "execute_result"
    }
   ],
   "source": [
    "A[mask, :]"
   ]
  },
  {
   "cell_type": "markdown",
   "metadata": {},
   "source": [
    "# Задача 2.3 (3 балла)\n",
    "\n",
    "Найдите индекс строки массива `A`, в которой разница между максимальным и минимальным элементом максимальна"
   ]
  },
  {
   "cell_type": "code",
   "execution_count": 9,
   "metadata": {},
   "outputs": [
    {
     "data": {
      "text/plain": [
       "0"
      ]
     },
     "execution_count": 9,
     "metadata": {},
     "output_type": "execute_result"
    }
   ],
   "source": [
    "np.argmax(np.max(A, axis=1) - np.min(A, axis=1))"
   ]
  },
  {
   "cell_type": "markdown",
   "metadata": {},
   "source": [
    "# Задание 2.4 (7 баллов)\n",
    "\n",
    "Сгенерируйте массив той же размерности, что и `A`, но в котором каждый элемент заменен на его порядковый номер (начиная с 1) в отсортированном по возрастанию массиве из элементов `A`\n",
    "\n",
    "Если `A` выглядит так:\n",
    "$$\n",
    "\\begin{pmatrix}\n",
    "12 & 14\\\\\n",
    "1 & 2\n",
    "\\end{pmatrix}\n",
    "$$\n",
    "то результат должен быть\n",
    "$$\n",
    "\\begin{pmatrix}\n",
    "3 & 4\\\\\n",
    "1 & 2\n",
    "\\end{pmatrix}\n",
    "$$\n",
    "\n",
    "*Tip: рассмотрите возможность неоднократного применения [argsort()](https://numpy.org/doc/stable/reference/generated/numpy.ndarray.argsort.html)*"
   ]
  },
  {
   "cell_type": "code",
   "execution_count": 10,
   "metadata": {},
   "outputs": [
    {
     "data": {
      "text/plain": [
       "array([[9047, 3636, 1960, ...,  436, 1821, 1185],\n",
       "       [8623, 2075, 3504, ..., 5634, 3999,  438],\n",
       "       [8581, 7755,  662, ..., 2964, 1708, 8544],\n",
       "       ...,\n",
       "       [2383, 6878, 8959, ..., 9243, 1997, 1091],\n",
       "       [9244, 8833, 8701, ..., 4472, 2280,  773],\n",
       "       [4530, 7623, 6493, ..., 4169, 3525, 9460]])"
      ]
     },
     "execution_count": 10,
     "metadata": {},
     "output_type": "execute_result"
    }
   ],
   "source": [
    "np.argsort(np.argsort(np.ravel(A))).reshape(A.shape)"
   ]
  },
  {
   "cell_type": "markdown",
   "metadata": {},
   "source": [
    "# Задание 2.5 (2 балла)\n",
    "\n",
    "Примените $\\min-\\max$ - нормализацию к строкам массива `A`. То есть нужно получить новый массивы, в каждой строке которого максимальный элементы равен $1$, минимальный - $0$. "
   ]
  },
  {
   "cell_type": "code",
   "execution_count": 11,
   "metadata": {},
   "outputs": [],
   "source": [
    "rows_count = A.shape[0]\n",
    "min_args = A.min(axis=1).reshape(rows_count, 1)\n",
    "max_args = A.max(axis=1).reshape(rows_count, 1)"
   ]
  },
  {
   "cell_type": "code",
   "execution_count": 12,
   "metadata": {},
   "outputs": [
    {
     "data": {
      "text/plain": [
       "array([[0.90909091, 0.35353535, 0.19191919, ..., 0.04040404, 0.17171717,\n",
       "        0.11111111],\n",
       "       [0.85858586, 0.2020202 , 0.34343434, ..., 0.56565657, 0.39393939,\n",
       "        0.04040404],\n",
       "       [0.88541667, 0.80208333, 0.0625    , ..., 0.30208333, 0.16666667,\n",
       "        0.88541667],\n",
       "       ...,\n",
       "       [0.23404255, 0.71276596, 0.93617021, ..., 0.96808511, 0.19148936,\n",
       "        0.09574468],\n",
       "       [0.94791667, 0.89583333, 0.88541667, ..., 0.44791667, 0.21875   ,\n",
       "        0.0625    ],\n",
       "       [0.43877551, 0.76530612, 0.65306122, ..., 0.40816327, 0.34693878,\n",
       "        0.94897959]])"
      ]
     },
     "execution_count": 12,
     "metadata": {},
     "output_type": "execute_result"
    }
   ],
   "source": [
    "(A - min_args) / (max_args - min_args)"
   ]
  },
  {
   "cell_type": "markdown",
   "metadata": {},
   "source": [
    "# Задание 2.6 (2 балла)\n",
    "\n",
    "Сгенерируйте новый трехмерный массив, размерности $10 \\times 200 \\times 50$. Подмассивы по нулевой оси должны состоять из элементов `A`, умноженных на $1 - 10$ соответственно"
   ]
  },
  {
   "cell_type": "code",
   "execution_count": 13,
   "metadata": {},
   "outputs": [
    {
     "data": {
      "text/plain": [
       "array([[[ 90,  35,  19, ...,   4,  17,  11],\n",
       "        [ 85,  20,  34, ...,  56,  39,   4],\n",
       "        [ 85,  77,   6, ...,  29,  16,  85],\n",
       "        ...,\n",
       "        [ 23,  68,  89, ...,  92,  19,  10],\n",
       "        [ 92,  87,  86, ...,  44,  22,   7],\n",
       "        [ 44,  76,  65, ...,  41,  35,  94]],\n",
       "\n",
       "       [[180,  70,  38, ...,   8,  34,  22],\n",
       "        [170,  40,  68, ..., 112,  78,   8],\n",
       "        [170, 154,  12, ...,  58,  32, 170],\n",
       "        ...,\n",
       "        [ 46, 136, 178, ..., 184,  38,  20],\n",
       "        [184, 174, 172, ...,  88,  44,  14],\n",
       "        [ 88, 152, 130, ...,  82,  70, 188]],\n",
       "\n",
       "       [[270, 105,  57, ...,  12,  51,  33],\n",
       "        [255,  60, 102, ..., 168, 117,  12],\n",
       "        [255, 231,  18, ...,  87,  48, 255],\n",
       "        ...,\n",
       "        [ 69, 204, 267, ..., 276,  57,  30],\n",
       "        [276, 261, 258, ..., 132,  66,  21],\n",
       "        [132, 228, 195, ..., 123, 105, 282]],\n",
       "\n",
       "       ...,\n",
       "\n",
       "       [[720, 280, 152, ...,  32, 136,  88],\n",
       "        [680, 160, 272, ..., 448, 312,  32],\n",
       "        [680, 616,  48, ..., 232, 128, 680],\n",
       "        ...,\n",
       "        [184, 544, 712, ..., 736, 152,  80],\n",
       "        [736, 696, 688, ..., 352, 176,  56],\n",
       "        [352, 608, 520, ..., 328, 280, 752]],\n",
       "\n",
       "       [[810, 315, 171, ...,  36, 153,  99],\n",
       "        [765, 180, 306, ..., 504, 351,  36],\n",
       "        [765, 693,  54, ..., 261, 144, 765],\n",
       "        ...,\n",
       "        [207, 612, 801, ..., 828, 171,  90],\n",
       "        [828, 783, 774, ..., 396, 198,  63],\n",
       "        [396, 684, 585, ..., 369, 315, 846]],\n",
       "\n",
       "       [[900, 350, 190, ...,  40, 170, 110],\n",
       "        [850, 200, 340, ..., 560, 390,  40],\n",
       "        [850, 770,  60, ..., 290, 160, 850],\n",
       "        ...,\n",
       "        [230, 680, 890, ..., 920, 190, 100],\n",
       "        [920, 870, 860, ..., 440, 220,  70],\n",
       "        [440, 760, 650, ..., 410, 350, 940]]])"
      ]
     },
     "execution_count": 13,
     "metadata": {},
     "output_type": "execute_result"
    }
   ],
   "source": [
    "np.cumsum(np.tile(A, (10, 1, 1)), axis=0)"
   ]
  },
  {
   "cell_type": "markdown",
   "metadata": {},
   "source": [
    "# Задание 2.7 (2 балла)\n",
    "\n",
    "Создайте новый массив, такой же размерности, как и `A`, в котором сначала сгруппированы четные столбцы `A`, потом  нечетные. Используйте [np.concat()](https://numpy.org/doc/stable/reference/generated/numpy.concatenate.html) "
   ]
  },
  {
   "cell_type": "code",
   "execution_count": 14,
   "metadata": {},
   "outputs": [
    {
     "data": {
      "text/plain": [
       "array([[90, 19,  0, ..., 33,  4, 11],\n",
       "       [85, 34, 28, ..., 85, 56,  4],\n",
       "       [85,  6, 56, ..., 16, 29, 85],\n",
       "       ...,\n",
       "       [23, 89, 34, ..., 75, 92, 10],\n",
       "       [92, 86, 35, ..., 65, 44,  7],\n",
       "       [44, 65, 38, ..., 29, 41, 94]])"
      ]
     },
     "execution_count": 14,
     "metadata": {},
     "output_type": "execute_result"
    }
   ],
   "source": [
    "np.concatenate((A[:,0::2], A[:,1::2]), axis=1)"
   ]
  },
  {
   "cell_type": "markdown",
   "metadata": {},
   "source": [
    "# Задание 2.8 (2 балла)\n",
    "\n",
    "Посчитайте количество строк массива `A`, в который все элементы больше 5. Используйте [np.all()](https://numpy.org/doc/stable/reference/generated/numpy.all.html) "
   ]
  },
  {
   "cell_type": "code",
   "execution_count": 15,
   "metadata": {},
   "outputs": [
    {
     "data": {
      "text/plain": [
       "7"
      ]
     },
     "execution_count": 15,
     "metadata": {},
     "output_type": "execute_result"
    }
   ],
   "source": [
    "np.sum(np.all(A > 5, axis=1))"
   ]
  },
  {
   "cell_type": "markdown",
   "metadata": {},
   "source": [
    "# Задание 2.9 (2 балла)\n",
    "\n",
    "Поделите массив `A` горизонтально на 10 частей и создайте новый массив размерности $20 \\times 50$, который состоит из средних этих частей. Используйте [np.split()](https://numpy.org/doc/stable/reference/generated/numpy.split.html)"
   ]
  },
  {
   "cell_type": "code",
   "execution_count": 16,
   "metadata": {},
   "outputs": [
    {
     "data": {
      "text/plain": [
       "array([[50.9, 55.3, 38.5, 39.1, 37.4, 66.4, 33.6, 62.7, 66.3, 50.8, 52. ,\n",
       "        53.7, 29.3, 65.8, 37.8, 42. , 50.3, 61.2, 39.5, 58.5, 55.8, 49.6,\n",
       "        32.1, 55.1, 53.6, 47.7, 46.4, 48.2, 49.5, 64.3, 48.3, 46. , 56.9,\n",
       "        48.3, 53.2, 41.7, 47.4, 43.6, 49.9, 53.1, 58.7, 37. , 48.7, 52.1,\n",
       "        66.6, 44.5, 41.6, 54.3, 39.6, 41.3],\n",
       "       [41.5, 26.9, 25.2, 46.3, 49.5, 44.2, 49.6, 57.8, 41.1, 35.7, 57. ,\n",
       "        35.2, 51. , 47.2, 37.9, 43. , 54. , 42.5, 47.3, 71.2, 40.9, 50. ,\n",
       "        42.2, 40.2, 49.8, 53.6, 57. , 31.5, 40.9, 64.7, 43.3, 46.5, 38.6,\n",
       "        40.6, 50.4, 50.4, 50.4, 52.4, 53.5, 43. , 53.2, 55.1, 60.7, 36.9,\n",
       "        53.6, 53.1, 45. , 84.8, 32. , 36.2],\n",
       "       [52.5, 54.8, 41.1, 51.6, 60.9, 42.4, 48. , 52.7, 32.8, 52.2, 39.6,\n",
       "        59.6, 50.8, 33.5, 54.2, 44.7, 39.4, 39.9, 52.4, 56.1, 51.5, 36.1,\n",
       "        56.6, 56.3, 51.1, 49. , 46.4, 52.7, 45.4, 40.3, 60. , 45.5, 48. ,\n",
       "        55. , 42.6, 56.3, 64.3, 56.5, 53.7, 34.9, 57.2, 41.7, 41.3, 63. ,\n",
       "        33.4, 41.3, 55.5, 38.4, 53. , 47.6],\n",
       "       [46.1, 30.2, 63.7, 46.8, 36.4, 57.5, 51.8, 47.2, 54.5, 62. , 52.7,\n",
       "        61. , 48.6, 35.5, 38.2, 52.5, 39.6, 49.3, 47.9, 61.2, 49.6, 41.8,\n",
       "        50. , 60.9, 47.8, 45.5, 46.4, 53.1, 34.9, 44.2, 48.3, 66. , 58.2,\n",
       "        60.4, 61. , 52.1, 38.8, 56.2, 66.1, 64.8, 43.5, 58. , 40.2, 48.3,\n",
       "        55.1, 58.9, 68.6, 39.1, 35.4, 55.2],\n",
       "       [35.2, 55.8, 46.6, 47.7, 58.4, 44.4, 56.3, 51. , 39.2, 44.8, 47.2,\n",
       "        34.7, 31. , 31.7, 60.1, 47.9, 42.9, 60.7, 56.9, 40.1, 45.2, 28.8,\n",
       "        53.3, 56.3, 28.6, 50.8, 43.2, 35.9, 60. , 64.4, 51.2, 44.3, 66.7,\n",
       "        31.9, 60. , 40.2, 43.6, 40.4, 54.2, 34.8, 38.6, 57.2, 56.8, 34.4,\n",
       "        28.3, 53.3, 67.4, 46.3, 51.5, 44.9],\n",
       "       [38.8, 38.4, 33.3, 49.9, 61.7, 40.3, 58.4, 54.7, 45.9, 67.5, 60.5,\n",
       "        53.2, 76.6, 45.8, 51.7, 52.9, 50. , 49. , 52.5, 52.8, 44.3, 48.2,\n",
       "        36.5, 39.6, 59.6, 42. , 48.5, 49.5, 46.7, 36.2, 58. , 54.9, 76.2,\n",
       "        46. , 52.3, 52.8, 38. , 65.8, 49.5, 55.2, 54.5, 69.9, 33.7, 65.2,\n",
       "        51.4, 52.8, 56.1, 64.2, 36.4, 56. ],\n",
       "       [21. , 39.2, 48.9, 58.2, 51.3, 57.5, 69. , 37. , 45.9, 55.2, 47.2,\n",
       "        37.6, 40.8, 55.2, 58.3, 37.7, 54.6, 37.4, 55.4, 60.1, 54.7, 49.3,\n",
       "        38.9, 51.4, 55.2, 45.1, 51.1, 42.2, 36.3, 56.6, 40. , 56.4, 38. ,\n",
       "        57.8, 36.4, 50.7, 54.3, 36.8, 50.9, 54.3, 32.2, 47.2, 33.5, 41.4,\n",
       "        52. , 45.3, 39.2, 53.9, 37. , 36.5],\n",
       "       [48.5, 40.6, 51.6, 61.4, 39.4, 49.3, 46.2, 35. , 57.7, 51.2, 58.2,\n",
       "        38.3, 34.9, 46.1, 43.5, 53.4, 39.7, 22.1, 53.5, 61.5, 30.2, 42.7,\n",
       "        56.1, 61.5, 42.5, 35.7, 47.2, 45.9, 53.3, 55.2, 58. , 46. , 58.5,\n",
       "        47.1, 52.4, 63.1, 54.1, 61.5, 45.6, 57. , 46.2, 29.1, 54.9, 45.7,\n",
       "        58.2, 47.6, 39.9, 57.7, 46.5, 43.2],\n",
       "       [71.1, 34.4, 38.7, 57.6, 47.5, 44.7, 49.4, 39.9, 60.1, 57. , 45.8,\n",
       "        45.8, 49. , 56.2, 41.1, 52.3, 40. , 47.8, 43.5, 60.6, 57.4, 56.3,\n",
       "        46. , 68.1, 53.1, 73.2, 62.1, 52.4, 38.2, 36.9, 51. , 52.1, 33.2,\n",
       "        39.2, 24.8, 43.5, 45.5, 39.9, 49.1, 48.5, 45.3, 63.3, 44.1, 44.1,\n",
       "        56.3, 47.6, 49.8, 46.2, 47.2, 52.7],\n",
       "       [59.4, 53.9, 49.1, 41.4, 36.1, 47.9, 65.8, 56.6, 38.1, 49. , 59.4,\n",
       "        59. , 44.5, 41.7, 44.5, 47. , 38.1, 39. , 41.9, 47.3, 45.6, 56.7,\n",
       "        56.4, 50.2, 40.5, 64.7, 56.6, 50.2, 48.9, 35.7, 53.7, 52.9, 52.9,\n",
       "        62. , 46. , 54.2, 49.9, 48.8, 65.1, 39.6, 51.7, 51.8, 64.7, 31.7,\n",
       "        63.9, 59.1, 43.7, 54.1, 45.5, 43.1],\n",
       "       [49.4, 46.2, 36. , 60.2, 49.9, 42.5, 49.9, 71.2, 45.5, 65.7, 31.9,\n",
       "        49.4, 63.7, 50.6, 56.2, 42.9, 41.1, 60.1, 41.6, 44.3, 51.3, 36.5,\n",
       "        58.1, 51.3, 56.8, 40.9, 62.2, 68.4, 53.2, 48. , 45.8, 39.4, 50.5,\n",
       "        63.3, 50.4, 46.8, 38.4, 43.1, 42.1, 47.7, 47.9, 51.5, 52.2, 44.3,\n",
       "        62.8, 74.1, 52. , 46.8, 37.9, 46.4],\n",
       "       [50.7, 42.2, 55.8, 57. , 58.7, 39.5, 33.3, 52.6, 38. , 51.7, 56.2,\n",
       "        57.3, 57.8, 53.1, 47.1, 57.3, 35.8, 45.5, 41. , 60.3, 43.8, 48.9,\n",
       "        63.3, 54.8, 44. , 38.9, 49.9, 58.4, 48.9, 46.7, 30.4, 57.5, 63.5,\n",
       "        34.3, 60.9, 36.5, 50.9, 49.1, 60. , 49.8, 57.1, 50.4, 55.9, 50.5,\n",
       "        52.3, 68.6, 50. , 57.3, 50. , 54.3],\n",
       "       [28.5, 48.8, 41.6, 62.5, 55.5, 59.7, 56.6, 36. , 48.1, 47. , 40.2,\n",
       "        36.8, 55.6, 65.8, 60.2, 49.2, 35.5, 76.9, 51.3, 39.9, 35.1, 61.5,\n",
       "        38.4, 58.6, 43.7, 46.1, 51.8, 51.8, 64.9, 40.2, 42.1, 41.6, 52.9,\n",
       "        36.3, 54.9, 39.5, 40. , 62.4, 44.1, 40.5, 33.8, 45.9, 45. , 57.8,\n",
       "        40.3, 48.5, 60.7, 40.2, 67.3, 58.6],\n",
       "       [39.6, 46. , 49.1, 48.2, 57.1, 44.6, 41.5, 51.8, 35.8, 39.6, 40.7,\n",
       "        47.7, 41.8, 49.6, 65.7, 46.9, 60.9, 62.9, 37.3, 41.8, 58.6, 65.7,\n",
       "        61.9, 54.6, 43.3, 62.2, 50.4, 54.7, 54.8, 42.1, 54.7, 40.1, 26. ,\n",
       "        58.8, 42.8, 56.5, 45. , 68.5, 51.8, 56.6, 55.4, 41.1, 61.9, 40.8,\n",
       "        47.9, 53.6, 68.7, 39.2, 55.1, 53.6],\n",
       "       [28.4, 51.5, 51.5, 49.4, 60.5, 49. , 69. , 45.8, 53. , 48.8, 57. ,\n",
       "        48.4, 51.1, 39.4, 35.4, 51.9, 38.2, 51.5, 38.5, 44.4, 42.1, 49.1,\n",
       "        43.7, 56.1, 51.7, 48.4, 39.2, 67.1, 59.7, 51.4, 50.3, 35.2, 64.2,\n",
       "        46.9, 27.1, 45.4, 39.9, 54.6, 48.3, 69.2, 66. , 57.7, 56.5, 40.8,\n",
       "        30.6, 46.6, 39.1, 60.1, 55.5, 49.7],\n",
       "       [55.2, 55.7, 55.6, 52.2, 38. , 63.6, 50.7, 53.3, 42.3, 39.5, 42.6,\n",
       "        38.4, 51.7, 66.2, 43.4, 48. , 64. , 44.3, 46. , 53.9, 38.4, 57.2,\n",
       "        51.9, 56. , 47.2, 47.2, 41.8, 44.7, 57.6, 42.3, 52.3, 59.8, 44. ,\n",
       "        45.8, 38. , 57.2, 39.8, 50.5, 51.4, 46.2, 61.4, 55.4, 51.7, 47. ,\n",
       "        45.2, 54.3, 52.6, 51.9, 57. , 37. ],\n",
       "       [37.1, 66.3, 45.6, 56.9, 39.6, 42.5, 50. , 63.3, 57.3, 59.7, 37.2,\n",
       "        48.8, 44.7, 42.6, 35. , 46.3, 43.1, 67.6, 34. , 46.8, 37.8, 53.3,\n",
       "        44.7, 54.6, 39.9, 49.1, 52.1, 54.4, 45.7, 40.8, 54.7, 38.1, 55.1,\n",
       "        52.4, 60. , 46.6, 58.6, 38.6, 46.6, 50.2, 51.2, 66.4, 65.8, 62. ,\n",
       "        49.8, 48.6, 56. , 63.6, 47.5, 41.5],\n",
       "       [70. , 53.8, 53.7, 40.9, 49.3, 53.8, 59.3, 58.7, 47.3, 45.3, 44.5,\n",
       "        45.3, 54.9, 50.4, 48.5, 48.4, 45.2, 41.9, 51.5, 43.7, 63.3, 40.2,\n",
       "        55.3, 61.7, 52.7, 55.9, 75.1, 43.2, 42.3, 42.2, 45.7, 56.3, 41.7,\n",
       "        49.9, 43.7, 63.6, 48.5, 48.5, 53. , 23.2, 55.9, 56.7, 33.6, 52.4,\n",
       "        39.9, 48. , 51.1, 62.2, 42.9, 45.6],\n",
       "       [50.4, 40.4, 50.4, 42.8, 48.6, 45.3, 40.9, 47.3, 58.2, 48.4, 42. ,\n",
       "        29.2, 52.7, 56.5, 58.5, 72.1, 49.8, 48.3, 30.5, 45.9, 42.1, 53.2,\n",
       "        56.8, 35.9, 54.1, 40.8, 60.4, 43.2, 52.2, 57.5, 58.6, 46.5, 57.8,\n",
       "        65. , 67.5, 43.3, 67. , 49.7, 43.1, 45.1, 45.1, 54.5, 54.8, 58.8,\n",
       "        32.1, 45.1, 52. , 50.4, 38.8, 52. ],\n",
       "       [51.8, 47.3, 48. , 31.4, 29.2, 52.9, 50.7, 57.3, 74.3, 48.3, 56.5,\n",
       "        58.4, 44. , 47. , 42.1, 50.5, 60.9, 35.9, 42.5, 55.6, 48. , 48.8,\n",
       "        46.1, 40.4, 58.3, 46.6, 47.1, 43.7, 45.9, 57.8, 47.3, 53.8, 50.4,\n",
       "        60.8, 52.7, 39.3, 61.1, 47.9, 38.4, 46.4, 43.6, 60.8, 56.8, 45.1,\n",
       "        49.4, 43.9, 44.7, 52. , 53.1, 43.7]])"
      ]
     },
     "execution_count": 16,
     "metadata": {},
     "output_type": "execute_result"
    }
   ],
   "source": [
    "np.mean(np.split(A, 10, axis=0), axis=0)"
   ]
  },
  {
   "cell_type": "markdown",
   "metadata": {},
   "source": [
    "# Задание 2.10 (4 балла)\n",
    "\n",
    "\"Разверните\" массив `A` в одномерный массив. Оставьте в нём только уникальные элементы в том же порядке, в котором они встречаются в массиве. Используйте [np.unique()](https://numpy.org/doc/stable/reference/generated/numpy.unique.html)"
   ]
  },
  {
   "cell_type": "markdown",
   "metadata": {},
   "source": [
    "Развернем массив:"
   ]
  },
  {
   "cell_type": "code",
   "execution_count": 17,
   "metadata": {},
   "outputs": [
    {
     "data": {
      "text/plain": [
       "array([90, 35, 19, ..., 41, 35, 94])"
      ]
     },
     "execution_count": 17,
     "metadata": {},
     "output_type": "execute_result"
    }
   ],
   "source": [
    "ravel_A = np.ravel(A)\n",
    "ravel_A"
   ]
  },
  {
   "cell_type": "code",
   "execution_count": 18,
   "metadata": {},
   "outputs": [],
   "source": [
    "uniq, indices = np.unique(ravel_A, return_index=True)\n"
   ]
  },
  {
   "cell_type": "markdown",
   "metadata": {},
   "source": [
    "Уникальные элементы в том порядке, в котором они встречаются в массиве:"
   ]
  },
  {
   "cell_type": "code",
   "execution_count": 19,
   "metadata": {},
   "outputs": [
    {
     "data": {
      "text/plain": [
       "array([90, 35, 19, 34,  0, 79, 59, 82, 73, 97, 14, 86, 64, 93, 17, 69, 60,\n",
       "       68, 98, 96, 37, 65, 75, 67, 44, 78, 99, 88, 61,  2, 15, 85,  6, 53,\n",
       "       50, 22, 92, 33,  4, 11, 20, 28, 52, 38, 27, 13, 42,  9, 10, 83,  7,\n",
       "       16, 80, 31, 58, 63, 21, 24, 51, 26, 56, 39, 77, 32, 45, 30, 55, 46,\n",
       "        5, 62, 43,  8, 84, 72, 87, 40, 76, 29,  1, 71, 95, 23, 49, 91, 18,\n",
       "       12, 70, 41, 94, 36, 47, 57,  3, 66, 54, 74, 48, 89, 25, 81])"
      ]
     },
     "execution_count": 19,
     "metadata": {},
     "output_type": "execute_result"
    }
   ],
   "source": [
    "uniq[np.argsort(indices)]"
   ]
  },
  {
   "cell_type": "markdown",
   "metadata": {},
   "source": [
    "# Задание 2.11 (3 балла)\n",
    "\n",
    "Создайте одномерный массив размерности $200$, в котором каждый элемент - евклидово расстояние между соответствующей строкой `A` и \"средней\" строкой `A`"
   ]
  },
  {
   "cell_type": "code",
   "execution_count": 20,
   "metadata": {},
   "outputs": [
    {
     "data": {
      "text/plain": [
       "array([227.31592471, 210.75146411, 198.51984693, 222.27120737,\n",
       "       217.77065832, 204.02761976, 196.59895632, 187.95576508,\n",
       "       190.10857325, 224.95366106, 215.18015621, 209.06180815,\n",
       "       190.83133816, 207.05252866, 210.05949068, 193.54986341,\n",
       "       188.84387632, 190.63808545, 202.89588371, 205.52673701,\n",
       "       190.72160241, 181.04195543, 184.04015764, 208.1695694 ,\n",
       "       207.7823612 , 191.03114831, 208.71535551, 195.65691816,\n",
       "       210.66371217, 214.22873202, 203.98869975, 206.6954272 ,\n",
       "       198.74865943, 183.90807384, 207.39045211, 213.90098089,\n",
       "       190.35230397, 201.15178255, 188.49063538, 215.40266857,\n",
       "       218.00488441, 199.24893883, 202.56040982, 208.15114611,\n",
       "       213.01389538, 208.09709182, 204.8277804 , 240.77474873,\n",
       "       218.2067818 , 219.8167865 , 198.94519252, 202.33716817,\n",
       "       202.12914096, 196.09097283, 221.80486835, 217.83369718,\n",
       "       192.13224515, 185.53994078, 217.42929799, 190.20528285,\n",
       "       199.73564936, 219.74548829, 196.45849339, 212.83709645,\n",
       "       215.87044639, 187.00863516, 212.05725553, 194.72780907,\n",
       "       208.16661506, 202.81597478, 201.10111791, 187.72024298,\n",
       "       183.45037374, 221.43804918, 203.82499755, 197.60814666,\n",
       "       219.2841071 , 228.04508244, 202.18441984, 196.02239572,\n",
       "       188.65762541, 208.96523545, 197.17568213, 198.82396643,\n",
       "       177.01917869, 217.21806929, 202.49343107, 224.16087889,\n",
       "       212.28118057, 202.37074795, 191.87138824, 203.79283507,\n",
       "       197.03522433, 198.98725996, 189.15504124, 205.04038535,\n",
       "       203.34839469, 197.29855454, 211.90939013, 188.42260911,\n",
       "       213.75427393, 208.08997964, 195.91324515, 203.82075367,\n",
       "       199.68763013, 210.23182353, 212.02103581, 197.23075223,\n",
       "       202.74797071, 203.71020992, 212.74801909, 199.03484525,\n",
       "       198.93011241, 199.0157522 , 172.50107137, 213.67318415,\n",
       "       191.53294658, 222.37481788, 179.43834491, 210.12308209,\n",
       "       216.49332467, 193.04183387, 190.69113672, 207.03509274,\n",
       "       221.18851603, 211.05473135, 193.80428175, 223.00546994,\n",
       "       209.76386635, 207.19898558, 199.10758304, 182.07811407,\n",
       "       193.14054371, 196.66354422, 194.28316866, 213.36475722,\n",
       "       209.15051906, 181.59300544, 196.20043228, 210.99824555,\n",
       "       226.22280969, 188.52922751, 215.43985152, 222.90610047,\n",
       "       194.60120664, 206.70466764, 188.51108621, 213.46938803,\n",
       "       214.2151013 , 215.00476652, 211.14357586, 196.4888028 ,\n",
       "       194.09291493, 238.28354879, 190.4277806 , 216.76558681,\n",
       "       190.64005252, 199.97517252, 205.77849651, 183.91631147,\n",
       "       211.29831903, 205.55573362, 220.28186404, 204.39897168,\n",
       "       228.59757135, 210.48090086, 219.95619933, 208.89327329,\n",
       "       201.81880394, 199.97674771, 199.76421007, 214.03135197,\n",
       "       199.66036068, 172.35509747, 199.99264893, 206.81759989,\n",
       "       211.85591713, 207.24847315, 223.60395709, 198.24951356,\n",
       "       201.85489745, 201.33926499, 212.43916688, 210.89419059,\n",
       "       198.02186653, 212.07814509, 210.60548337, 208.89365626,\n",
       "       195.40007581, 178.31034638, 196.61103638, 199.36970589,\n",
       "       218.43797661, 218.92544307, 208.22024307, 199.61046973,\n",
       "       201.11441924, 201.09017784, 198.48314695, 205.37521668])"
      ]
     },
     "execution_count": 20,
     "metadata": {},
     "output_type": "execute_result"
    }
   ],
   "source": [
    "mean_row = np.mean(A, axis=0)\n",
    "np.linalg.norm(A - mean_row, axis=1)"
   ]
  },
  {
   "cell_type": "markdown",
   "metadata": {},
   "source": [
    "# Задание 2.12 (2 балла)\n",
    "\n",
    "Создайте новый массив, который состоит из элементов `A`, измененных по следующим правилам:\n",
    "- если элемент меньше $50$, то он умножается на $2$\n",
    "- в противном случае он умножается на $3$\n",
    "\n",
    "Используйте [np.where()](https://numpy.org/doc/stable/reference/generated/numpy.where.html)"
   ]
  },
  {
   "cell_type": "code",
   "execution_count": 21,
   "metadata": {},
   "outputs": [
    {
     "data": {
      "text/plain": [
       "array([[270,  70,  38, ...,   8,  34,  22],\n",
       "       [255,  40,  68, ..., 168,  78,   8],\n",
       "       [255, 231,  12, ...,  58,  32, 255],\n",
       "       ...,\n",
       "       [ 46, 204, 267, ..., 276,  38,  20],\n",
       "       [276, 261, 258, ...,  88,  44,  14],\n",
       "       [ 88, 228, 195, ...,  82,  70, 282]])"
      ]
     },
     "execution_count": 21,
     "metadata": {},
     "output_type": "execute_result"
    }
   ],
   "source": [
    "np.where(A < 50, A * 2, A * 3)"
   ]
  },
  {
   "cell_type": "markdown",
   "metadata": {},
   "source": [
    "# Задание 2.13 (7 баллов)\n",
    "\n",
    "Разверните массив `A` в одномерный массив. Создайте новый массив той же размерности, состоящий из суммы скользящих средних по окну $3$, $5$, $10$.\n",
    "\n",
    "*Tip: реализуйте функцию, которая считает скользящее среднее. Используйте [np.cumsum()](https://numpy.org/doc/stable/reference/generated/numpy.cumsum.html) или [np.convolve()](https://numpy.org/doc/stable/reference/generated/numpy.convolve.html)*"
   ]
  },
  {
   "cell_type": "code",
   "execution_count": 22,
   "metadata": {},
   "outputs": [],
   "source": [
    "def moving_average(x: np.ndarray, n: int = 3) -> np.ndarray:\n",
    "    return np.round(np.convolve(x, np.ones(n), 'same') / n, 2)"
   ]
  },
  {
   "cell_type": "code",
   "execution_count": 23,
   "metadata": {},
   "outputs": [
    {
     "data": {
      "text/plain": [
       "array([90, 35, 19, ..., 41, 35, 94])"
      ]
     },
     "execution_count": 23,
     "metadata": {},
     "output_type": "execute_result"
    }
   ],
   "source": [
    "ravel_A = np.ravel(A)\n",
    "ravel_A"
   ]
  },
  {
   "cell_type": "markdown",
   "metadata": {},
   "source": [
    "Скользящее среднее по окну 3:"
   ]
  },
  {
   "cell_type": "code",
   "execution_count": 24,
   "metadata": {},
   "outputs": [
    {
     "data": {
      "text/plain": [
       "array([41.67, 48.  , 29.33, ..., 29.33, 56.67, 43.  ])"
      ]
     },
     "execution_count": 24,
     "metadata": {},
     "output_type": "execute_result"
    }
   ],
   "source": [
    "moving_average(ravel_A, 3)"
   ]
  },
  {
   "cell_type": "markdown",
   "metadata": {},
   "source": [
    "Скользящее среднее по окну 5:"
   ]
  },
  {
   "cell_type": "code",
   "execution_count": 25,
   "metadata": {},
   "outputs": [
    {
     "data": {
      "text/plain": [
       "array([28.8, 35.6, 35.6, ..., 42.2, 36.4, 34. ])"
      ]
     },
     "execution_count": 25,
     "metadata": {},
     "output_type": "execute_result"
    }
   ],
   "source": [
    "moving_average(ravel_A, 5)"
   ]
  },
  {
   "cell_type": "markdown",
   "metadata": {},
   "source": [
    "Скользящее среднее по окну 10:"
   ]
  },
  {
   "cell_type": "code",
   "execution_count": 26,
   "metadata": {},
   "outputs": [
    {
     "data": {
      "text/plain": [
       "array([17.8, 25.7, 31.6, ..., 42.5, 34.6, 30.5])"
      ]
     },
     "execution_count": 26,
     "metadata": {},
     "output_type": "execute_result"
    }
   ],
   "source": [
    "moving_average(ravel_A, 10)"
   ]
  },
  {
   "cell_type": "markdown",
   "metadata": {},
   "source": [
    "# Задание 2.14 (8 баллов)\n",
    "\n",
    "Постройте график функции $$f(x) = (5  \\sin(2x) - \\cos^2(x) - 1 + |x^3| - x^2) / (x^2 + 1)$$  \n",
    "\n",
    "и производной от этой функции.  Найдите минимум с помощью `scipy` и обозначьте его на графике. На этой же оси постройте графики скользящего среднего этой функции с окном $1$, $2$, $5$."
   ]
  },
  {
   "cell_type": "code",
   "execution_count": 27,
   "metadata": {},
   "outputs": [
    {
     "name": "stdout",
     "output_type": "stream",
     "text": [
      "Минимальное значение функции в точке:(-0.4975, -4.8821)\n"
     ]
    }
   ],
   "source": [
    "def f(x: np.ndarray) -> np.ndarray:\n",
    "    return (5 * np.sin(2 * x) - (np.cos(x))**2 - 1 + np.abs(x**3) - x**2) / (x**2 + 1)\n",
    "\n",
    "def deriv(x: np.ndarray) -> np.ndarray:\n",
    "    return scipy.misc.derivative(f, x)\n",
    "\n",
    "x = np.linspace(-10, 10, 100)\n",
    "y = f(x)\n",
    "\n",
    "x_min_value = float(scipy.optimize.minimize(f, 0).x)\n",
    "y_min_value = f(x_min_value)\n",
    "print(f\"Минимальное значение функции в точке:({x_min_value:0.4f}, {y_min_value:0.4f})\")"
   ]
  },
  {
   "cell_type": "code",
   "execution_count": 28,
   "metadata": {},
   "outputs": [],
   "source": [
    "mov_average_1 = moving_average(y, 1)\n",
    "mov_average_2 = moving_average(y, 2)\n",
    "mov_average_5 = moving_average(y, 5)"
   ]
  },
  {
   "cell_type": "code",
   "execution_count": 29,
   "metadata": {},
   "outputs": [
    {
     "data": {
      "image/png": "[encoded data removed]",
      "text/plain": [
       "<Figure size 640x480 with 1 Axes>"
      ]
     },
     "metadata": {},
     "output_type": "display_data"
    }
   ],
   "source": [
    "plt.plot(x, y, color='black', label='Function',linewidth=2)\n",
    "plt.plot(x, deriv(x), '--', c='blue', label='Derivative')\n",
    "plt.scatter(x_min_value, y_min_value, c='r', label='Minimum')\n",
    "plt.text(2., -5., f\"({x_min_value:0.4f}, {y_min_value:0.4f})\", horizontalalignment='center',\n",
    "         fontsize=8, color='red')\n",
    "\n",
    "plt.plot(x, mov_average_1, ':', c='yellow', label='Moving average - 1')\n",
    "plt.plot(x, mov_average_2, '-.', c='purple', label='Moving average - 2')\n",
    "plt.plot(x, mov_average_5, '--', c='green', label='Moving average - 5')\n",
    "\n",
    "plt.legend(loc='upper center')\n",
    "plt.show()"
   ]
  },
  {
   "cell_type": "markdown",
   "metadata": {},
   "source": [
    "# Задание 2.15 (10 баллов)\n",
    "\n",
    "Есть следующий алгоритм семплинирования, на вход функции подается вектор из целых положительных чисел и число семплов."
   ]
  },
  {
   "cell_type": "code",
   "execution_count": 154,
   "metadata": {},
   "outputs": [
    {
     "data": {
      "text/plain": [
       "[4, 2, 0, 0, 0]"
      ]
     },
     "execution_count": 154,
     "metadata": {},
     "output_type": "execute_result"
    }
   ],
   "source": [
    "from typing import List \n",
    "\n",
    "def sample(x: List[int], c: int) -> List[int]:\n",
    "    assert len(x) > 0\n",
    "    \n",
    "    s = np.sum(x)\n",
    "    res = []\n",
    "    for _ in range(c):\n",
    "        val = s * np.random.random()\n",
    "        cur, idx = 0, 0        \n",
    "        while cur + x[idx] <= val:\n",
    "            cur += x[idx]\n",
    "            idx += 1\n",
    "            \n",
    "        res.append(idx)\n",
    "    return res\n",
    "\n",
    "            \n",
    "sample([50, 3, 1, 7, 20], 5)   "
   ]
  },
  {
   "cell_type": "markdown",
   "metadata": {},
   "source": [
    "Реализуйте данный алгоритм более оптимальным способом на массивах `numpy`, без использования циклов. Проверьте корректность и идентичность алгоритмов семплирования с помощью статистических тестов."
   ]
  },
  {
   "cell_type": "code",
   "execution_count": 156,
   "metadata": {},
   "outputs": [
    {
     "data": {
      "text/plain": [
       "array([4, 4, 0, 0, 4])"
      ]
     },
     "execution_count": 156,
     "metadata": {},
     "output_type": "execute_result"
    }
   ],
   "source": [
    "def sample_np(x: np.ndarray, c: int) -> np.ndarray:\n",
    "    assert len(x) > 0\n",
    "    \n",
    "    s = np.sum(x)\n",
    "    indices = np.array(c)\n",
    "    sums = np.cumsum(x)\n",
    "\n",
    "    values = s * np.random.random(size=(c, 1))\n",
    "    result = np.sum(sums < values, axis=1)\n",
    "    \n",
    "    return result\n",
    "\n",
    "            \n",
    "sample_np(np.array([50, 3, 1, 7, 20]), 5)   "
   ]
  },
  {
   "cell_type": "markdown",
   "metadata": {},
   "source": [
    "Используем критерий Стьюдента для проверки нулевой гипотезы о том, что две независимые выборки имеют одинаковые мат. ожидания. Уровень статистической значимости $\\alpha$ = 0.05"
   ]
  },
  {
   "cell_type": "code",
   "execution_count": 172,
   "metadata": {},
   "outputs": [
    {
     "data": {
      "text/plain": [
       "Ttest_indResult(statistic=0.14810962125813582, pvalue=0.8827699743090481)"
      ]
     },
     "execution_count": 172,
     "metadata": {},
     "output_type": "execute_result"
    }
   ],
   "source": [
    "import scipy.stats as stats\n",
    "\n",
    "sample1 = sample([50, 3, 1, 7, 20], 30)\n",
    "sample2 = sample_np(np.array([50, 3, 1, 7, 20]), 30)   \n",
    "stats.ttest_ind(a=sample1, b=sample2) "
   ]
  },
  {
   "cell_type": "markdown",
   "metadata": {},
   "source": [
    "p-value > 0.05, значит нулевая гипотеза не может быть отвергнута. Нет оснований сказать, что мат. ожидание различны."
   ]
  },
  {
   "cell_type": "markdown",
   "metadata": {},
   "source": [
    "# Задание 2.16 (5 баллов)\n",
    "\n",
    "Есть следующий алгоритм \"случайного блуждания\""
   ]
  },
  {
   "cell_type": "code",
   "execution_count": 248,
   "metadata": {},
   "outputs": [
    {
     "name": "stdout",
     "output_type": "stream",
     "text": [
      "Полученное значение: 1945\n",
      "Для 100 запусков время: 1.9899184729983972 секунд\n"
     ]
    }
   ],
   "source": [
    "import random \n",
    "import timeit\n",
    "\n",
    "def walk(n: int):\n",
    "    cur_position = 0\n",
    "    for i in range(n):\n",
    "        cur_position += random.choice([-3, -1, 0, 2, 3])\n",
    "\n",
    "    return cur_position\n",
    "\n",
    "print(f\"Полученное значение: {walk(10000)}\")\n",
    "\n",
    "run_count = 100\n",
    "t = timeit.Timer(\"walk(10000)\", 'from __main__ import walk')\n",
    "print(f\"Для {run_count} запусков время: {t.timeit(run_count)} секунд\")"
   ]
  },
  {
   "cell_type": "markdown",
   "metadata": {},
   "source": [
    "Реализуйте более эффективную версию с помощью `numpy`, сравните производительность (используя, например, magic `timeit`). Воспользовавшись [kdeplot()](https://seaborn.pydata.org/generated/seaborn.kdeplot.html) или аналогами, постройте график распределения значений `walk(10_000)` на каком-то разумном запусков. "
   ]
  },
  {
   "cell_type": "code",
   "execution_count": 254,
   "metadata": {},
   "outputs": [
    {
     "name": "stdout",
     "output_type": "stream",
     "text": [
      "Полученное значение: 2012\n",
      "Для 100 запусков время: 0.0259215599980962 секунд\n"
     ]
    }
   ],
   "source": [
    "def walk_np(n: int) -> int:\n",
    "    steps = np.random.choice([-3, -1, 0, 2, 3], size=(n,))\n",
    "    walk = np.cumsum(steps)\n",
    "    \n",
    "    return walk[-1]\n",
    "\n",
    "print(f\"Полученное значение: {walk(10000)}\")\n",
    "\n",
    "run_count = 100\n",
    "t = timeit.Timer(\"walk_np(10000)\", 'from __main__ import walk_np')\n",
    "print(f\"Для {run_count} запусков время: {t.timeit(run_count)} секунд\")"
   ]
  },
  {
   "cell_type": "markdown",
   "metadata": {},
   "source": [
    "Реализация с помощью `Numpy` для 100 значений `walk(10_000)` дает преимущество в производительности на 1-2 порядка"
   ]
  },
  {
   "cell_type": "code",
   "execution_count": 257,
   "metadata": {},
   "outputs": [
    {
     "data": {
      "text/plain": [
       "array([1758., 2171., 2104., ..., 1821., 2151., 1997.])"
      ]
     },
     "execution_count": 257,
     "metadata": {},
     "output_type": "execute_result"
    }
   ],
   "source": [
    "run_count = 10000\n",
    "dist = np.empty(run_count)\n",
    "for i in range (run_count):\n",
    "    dist[i] = walk_np(10000)\n",
    "\n",
    "dist"
   ]
  },
  {
   "cell_type": "code",
   "execution_count": 258,
   "metadata": {},
   "outputs": [
    {
     "data": {
      "text/plain": [
       "<AxesSubplot:ylabel='Density'>"
      ]
     },
     "execution_count": 258,
     "metadata": {},
     "output_type": "execute_result"
    },
    {
     "data": {
      "image/png": "[encoded data removed]",
      "text/plain": [
       "<Figure size 640x480 with 1 Axes>"
      ]
     },
     "metadata": {},
     "output_type": "display_data"
    }
   ],
   "source": [
    "sns.kdeplot(dist)"
   ]
  },
  {
   "cell_type": "markdown",
   "metadata": {},
   "source": [
    "Для большого количества повторений алгоритма \"случайного блуждания\" получается нормальное распределение, c мат. ожиданием в районе диапазоне 2000"
   ]
  },
  {
   "cell_type": "code",
   "execution_count": 266,
   "metadata": {},
   "outputs": [
    {
     "name": "stdout",
     "output_type": "stream",
     "text": [
      "Среднее значение: 2000.406\n"
     ]
    },
    {
     "data": {
      "text/plain": [
       "NormaltestResult(statistic=1.798222302569826, pvalue=0.40693119931344224)"
      ]
     },
     "execution_count": 266,
     "metadata": {},
     "output_type": "execute_result"
    }
   ],
   "source": [
    "print(f\"Среднее значение: {dist.mean()}\")\n",
    "stats.normaltest(dist, nan_policy='propagate')"
   ]
  },
  {
   "cell_type": "markdown",
   "metadata": {},
   "source": [
    "# Задание 2.17 (5 баллов)\n",
    "\n",
    "Имеется функция, которая проделывает достаточно странные манипуляции с массивом `numpy`"
   ]
  },
  {
   "cell_type": "code",
   "execution_count": 267,
   "metadata": {},
   "outputs": [
    {
     "data": {
      "text/plain": [
       "1.1287055611725585"
      ]
     },
     "execution_count": 267,
     "metadata": {},
     "output_type": "execute_result"
    }
   ],
   "source": [
    "import numpy.typing as npt\n",
    "\n",
    "def strange_conv(a: npt.NDArray[np.float64]) -> np.float64:\n",
    "    x = a.shape[0]\n",
    "    y = a.shape[1]\n",
    "\n",
    "    t = 1.\n",
    "    for y in range(y - 5):\n",
    "        for x in range(x - 3):\n",
    "            c = 1.5 * a[y+1, x+2] - a[y+5, x+3] * a[y, x] + 0.2 * a[y+4, x]\n",
    "            t = 0.2 * t + 0.8 * c\n",
    "\n",
    "    return t\n",
    "\n",
    "\n",
    "a = np.random.random((10000, 10000))\n",
    "strange_conv(a)\n"
   ]
  },
  {
   "cell_type": "code",
   "execution_count": null,
   "metadata": {},
   "outputs": [],
   "source": []
  }
 ],
 "metadata": {
  "kernelspec": {
   "display_name": "Python 3.10.6 64-bit",
   "language": "python",
   "name": "python3"
  },
  "language_info": {
   "codemirror_mode": {
    "name": "ipython",
    "version": 3
   },
   "file_extension": ".py",
   "mimetype": "text/x-python",
   "name": "python",
   "nbconvert_exporter": "python",
   "pygments_lexer": "ipython3",
   "version": "3.10.6"
  },
  "orig_nbformat": 4,
  "vscode": {
   "interpreter": {
    "hash": "916dbcbb3f70747c44a77c7bcd40155683ae19c65e1c03b4aa3499c5328201f1"
   }
  }
 },
 "nbformat": 4,
 "nbformat_minor": 2
}
