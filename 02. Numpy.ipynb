{
 "cells": [
  {
   "cell_type": "markdown",
   "metadata": {},
   "source": [
    "# Задание 2.\n",
    "\n",
    "**NB. Все упражнения ниже нужно делать без использования циклов Python в явном (`while`, `for`) и неявном виде (list comprehension, `map`, `reduce` и пр)**\n",
    "\n",
    "Задания по манипуляциям с массивами чаще всего решаются в одно/два выражения. "
   ]
  },
  {
   "cell_type": "code",
   "execution_count": 3,
   "metadata": {},
   "outputs": [
    {
     "data": {
      "text/plain": [
       "array([[33, 99, 68, 12, 52],\n",
       "       [42, 38, 60, 45, 15],\n",
       "       [67, 73, 47, 98, 29],\n",
       "       [16, 17, 17, 74, 92],\n",
       "       [49, 12, 87, 15, 42],\n",
       "       [84, 76, 15, 96,  3],\n",
       "       [48, 52, 62, 14, 22],\n",
       "       [25, 46, 55,  1,  3],\n",
       "       [16, 72, 78, 50, 69],\n",
       "       [63, 46, 10,  4, 52],\n",
       "       [17, 80,  1, 72, 62],\n",
       "       [82, 50,  7, 70, 31],\n",
       "       [69, 46, 52, 76, 36],\n",
       "       [46, 90, 20, 35, 95],\n",
       "       [ 4, 75, 55, 63, 30],\n",
       "       [46, 98, 42, 56, 84],\n",
       "       [36, 66, 72, 22, 66],\n",
       "       [37, 32, 63, 44,  4],\n",
       "       [13, 32, 70, 89, 96],\n",
       "       [67,  8, 13, 18, 82]])"
      ]
     },
     "execution_count": 3,
     "metadata": {},
     "output_type": "execute_result"
    }
   ],
   "source": [
    "%matplotlib inline\n",
    "\n",
    "import numpy as np\n",
    "import matplotlib.pyplot as plt\n",
    "import seaborn as sns\n",
    "sns.set_theme()\n",
    "\n",
    "A = np.random.randint(0, 100, size=(20, 5))\n",
    "A"
   ]
  },
  {
   "cell_type": "markdown",
   "metadata": {},
   "source": [
    "# Задание 2.1 (2 балла)\n",
    "\n",
    "Сгенерируйте новый массив, в котором столбцы массива `A` переставлены в случайном порядке"
   ]
  },
  {
   "cell_type": "markdown",
   "metadata": {},
   "source": [
    "Для случайной перестановки столбцов массива можно использовать две команды:\n",
    "- np.random.permutation(array) - сохраняет исходный массив, возвращает изменённый новый массив\n",
    "- np.random.shuffle(array) - изменяет сам входной массив.\n",
    "\n",
    "Для многомерного массива происходит перестановка по первой оси, то есть для двумерного массива будут перемешаны строки, значин предварительно нужно транспонировать массив. \n",
    "\n",
    "Рассмотрим сначала на более наглядном примере:"
   ]
  },
  {
   "cell_type": "code",
   "execution_count": 4,
   "metadata": {},
   "outputs": [
    {
     "data": {
      "text/plain": [
       "array([[ 4, 68,  3, 81, 75],\n",
       "       [96, 91, 11, 95, 64],\n",
       "       [66, 20, 84, 42, 34],\n",
       "       [19, 29, 93, 69, 59],\n",
       "       [ 0, 98, 85, 42, 77]])"
      ]
     },
     "execution_count": 4,
     "metadata": {},
     "output_type": "execute_result"
    }
   ],
   "source": [
    "test_array = np.random.randint(0, 100, size=(5, 5))\n",
    "test_array"
   ]
  },
  {
   "cell_type": "code",
   "execution_count": 5,
   "metadata": {},
   "outputs": [
    {
     "data": {
      "text/plain": [
       "array([[ 4, 75, 68,  3, 81],\n",
       "       [96, 64, 91, 11, 95],\n",
       "       [66, 34, 20, 84, 42],\n",
       "       [19, 59, 29, 93, 69],\n",
       "       [ 0, 77, 98, 85, 42]])"
      ]
     },
     "execution_count": 5,
     "metadata": {},
     "output_type": "execute_result"
    }
   ],
   "source": [
    "np.random.permutation(test_array.transpose()).transpose()"
   ]
  },
  {
   "cell_type": "markdown",
   "metadata": {},
   "source": [
    "Тогда применим эту функцию к массиву А и получим случайную перестановку столбцов"
   ]
  },
  {
   "cell_type": "code",
   "execution_count": 6,
   "metadata": {},
   "outputs": [
    {
     "data": {
      "text/plain": [
       "array([[99, 33, 52, 68, 12],\n",
       "       [38, 42, 15, 60, 45],\n",
       "       [73, 67, 29, 47, 98],\n",
       "       [17, 16, 92, 17, 74],\n",
       "       [12, 49, 42, 87, 15],\n",
       "       [76, 84,  3, 15, 96],\n",
       "       [52, 48, 22, 62, 14],\n",
       "       [46, 25,  3, 55,  1],\n",
       "       [72, 16, 69, 78, 50],\n",
       "       [46, 63, 52, 10,  4],\n",
       "       [80, 17, 62,  1, 72],\n",
       "       [50, 82, 31,  7, 70],\n",
       "       [46, 69, 36, 52, 76],\n",
       "       [90, 46, 95, 20, 35],\n",
       "       [75,  4, 30, 55, 63],\n",
       "       [98, 46, 84, 42, 56],\n",
       "       [66, 36, 66, 72, 22],\n",
       "       [32, 37,  4, 63, 44],\n",
       "       [32, 13, 96, 70, 89],\n",
       "       [ 8, 67, 82, 13, 18]])"
      ]
     },
     "execution_count": 6,
     "metadata": {},
     "output_type": "execute_result"
    }
   ],
   "source": [
    "np.random.permutation(A.transpose()).transpose()"
   ]
  },
  {
   "cell_type": "markdown",
   "metadata": {},
   "source": [
    "# Задание 2.2 (5 баллов)\n",
    "\n",
    "Сгенерируйте новый массив, который содержит только те строки массива `A`, в которых: \n",
    "- сумма элементов по четным столбцам (индексы $0, 2, \\ldots$) больше среднего значения (по всему массиву) суммы элементов по нечетным столбцам (индексы $1, 3, \\ldots$) "
   ]
  },
  {
   "cell_type": "markdown",
   "metadata": {},
   "source": [
    "Проссумируем элементы по нечетным столбцам и возьмет среднее значение:"
   ]
  },
  {
   "cell_type": "code",
   "execution_count": 7,
   "metadata": {},
   "outputs": [
    {
     "data": {
      "text/plain": [
       "103.1"
      ]
     },
     "execution_count": 7,
     "metadata": {},
     "output_type": "execute_result"
    }
   ],
   "source": [
    "mean_odd = np.sum(A[:,1::2], axis=1).mean()\n",
    "mean_odd"
   ]
  },
  {
   "cell_type": "markdown",
   "metadata": {},
   "source": [
    "Создадим маску проверки условия, что сумма элементов по четным столбцам больше среднего значения суммы по нечетным столбцам"
   ]
  },
  {
   "cell_type": "code",
   "execution_count": 8,
   "metadata": {},
   "outputs": [
    {
     "data": {
      "text/plain": [
       "array([ True,  True,  True,  True,  True, False,  True, False,  True,\n",
       "        True, False,  True,  True,  True, False,  True,  True,  True,\n",
       "        True,  True])"
      ]
     },
     "execution_count": 8,
     "metadata": {},
     "output_type": "execute_result"
    }
   ],
   "source": [
    "mask = np.sum(A[:,0::2], axis=1) > mean_odd\n",
    "mask"
   ]
  },
  {
   "cell_type": "code",
   "execution_count": 9,
   "metadata": {},
   "outputs": [
    {
     "data": {
      "text/plain": [
       "array([[33, 99, 68, 12, 52],\n",
       "       [42, 38, 60, 45, 15],\n",
       "       [67, 73, 47, 98, 29],\n",
       "       [16, 17, 17, 74, 92],\n",
       "       [49, 12, 87, 15, 42],\n",
       "       [48, 52, 62, 14, 22],\n",
       "       [16, 72, 78, 50, 69],\n",
       "       [63, 46, 10,  4, 52],\n",
       "       [82, 50,  7, 70, 31],\n",
       "       [69, 46, 52, 76, 36],\n",
       "       [46, 90, 20, 35, 95],\n",
       "       [46, 98, 42, 56, 84],\n",
       "       [36, 66, 72, 22, 66],\n",
       "       [37, 32, 63, 44,  4],\n",
       "       [13, 32, 70, 89, 96],\n",
       "       [67,  8, 13, 18, 82]])"
      ]
     },
     "execution_count": 9,
     "metadata": {},
     "output_type": "execute_result"
    }
   ],
   "source": [
    "A[mask, :]"
   ]
  },
  {
   "cell_type": "markdown",
   "metadata": {},
   "source": [
    "# Задача 2.3 (3 балла)\n",
    "\n",
    "Найдите индекс строки массива `A`, в которой разница между максимальным и минимальным элементом максимальна"
   ]
  },
  {
   "cell_type": "code",
   "execution_count": 10,
   "metadata": {},
   "outputs": [
    {
     "data": {
      "text/plain": [
       "5"
      ]
     },
     "execution_count": 10,
     "metadata": {},
     "output_type": "execute_result"
    }
   ],
   "source": [
    "np.argmax(np.max(A, axis=1) - np.min(A, axis=1))"
   ]
  },
  {
   "cell_type": "markdown",
   "metadata": {},
   "source": [
    "# Задание 2.4 (7 баллов)\n",
    "\n",
    "Сгенерируйте массив той же размерности, что и `A`, но в котором каждый элемент заменен на его порядковый номер (начиная с 1) в отсортированном по возрастанию массиве из элементов `A`\n",
    "\n",
    "Если `A` выглядит так:\n",
    "$$\n",
    "\\begin{pmatrix}\n",
    "12 & 14\\\\\n",
    "1 & 2\n",
    "\\end{pmatrix}\n",
    "$$\n",
    "то результат должен быть\n",
    "$$\n",
    "\\begin{pmatrix}\n",
    "3 & 4\\\\\n",
    "1 & 2\n",
    "\\end{pmatrix}\n",
    "$$\n",
    "\n",
    "*Tip: рассмотрите возможность неоднократного применения [argsort()](https://numpy.org/doc/stable/reference/generated/numpy.ndarray.argsort.html)*"
   ]
  },
  {
   "cell_type": "code",
   "execution_count": 11,
   "metadata": {},
   "outputs": [
    {
     "data": {
      "text/plain": [
       "array([[33, 99, 68, 12, 52],\n",
       "       [42, 38, 60, 45, 15],\n",
       "       [67, 73, 47, 98, 29],\n",
       "       [16, 17, 17, 74, 92],\n",
       "       [49, 12, 87, 15, 42],\n",
       "       [84, 76, 15, 96,  3],\n",
       "       [48, 52, 62, 14, 22],\n",
       "       [25, 46, 55,  1,  3],\n",
       "       [16, 72, 78, 50, 69],\n",
       "       [63, 46, 10,  4, 52],\n",
       "       [17, 80,  1, 72, 62],\n",
       "       [82, 50,  7, 70, 31],\n",
       "       [69, 46, 52, 76, 36],\n",
       "       [46, 90, 20, 35, 95],\n",
       "       [ 4, 75, 55, 63, 30],\n",
       "       [46, 98, 42, 56, 84],\n",
       "       [36, 66, 72, 22, 66],\n",
       "       [37, 32, 63, 44,  4],\n",
       "       [13, 32, 70, 89, 96],\n",
       "       [67,  8, 13, 18, 82]])"
      ]
     },
     "execution_count": 11,
     "metadata": {},
     "output_type": "execute_result"
    }
   ],
   "source": [
    "A"
   ]
  },
  {
   "cell_type": "code",
   "execution_count": 25,
   "metadata": {},
   "outputs": [
    {
     "data": {
      "text/plain": [
       "array([[1, 4, 3, 0, 2],\n",
       "       [2, 1, 4, 3, 0],\n",
       "       [2, 3, 1, 4, 0],\n",
       "       [0, 1, 2, 3, 4],\n",
       "       [3, 0, 4, 1, 2],\n",
       "       [3, 2, 1, 4, 0],\n",
       "       [2, 3, 4, 0, 1],\n",
       "       [2, 3, 4, 0, 1],\n",
       "       [0, 3, 4, 1, 2],\n",
       "       [4, 2, 1, 0, 3],\n",
       "       [1, 4, 0, 3, 2],\n",
       "       [4, 2, 0, 3, 1],\n",
       "       [3, 1, 2, 4, 0],\n",
       "       [2, 3, 0, 1, 4],\n",
       "       [0, 4, 2, 3, 1],\n",
       "       [1, 4, 0, 2, 3],\n",
       "       [1, 2, 4, 0, 3],\n",
       "       [2, 1, 4, 3, 0],\n",
       "       [0, 1, 2, 3, 4],\n",
       "       [3, 0, 1, 2, 4]])"
      ]
     },
     "execution_count": 25,
     "metadata": {},
     "output_type": "execute_result"
    }
   ],
   "source": [
    "np.argsort(np.argsort(A, axis=1), axis=1)"
   ]
  },
  {
   "cell_type": "code",
   "execution_count": 31,
   "metadata": {},
   "outputs": [
    {
     "data": {
      "text/plain": [
       "array([[ 7, 23, 18,  2, 12],\n",
       "       [11,  6, 16, 12,  3],\n",
       "       [17, 16,  9, 23,  5],\n",
       "       [ 2,  3,  7, 18, 21],\n",
       "       [16,  1, 23,  5, 11],\n",
       "       [22, 17,  5, 22,  0],\n",
       "       [14, 13, 17,  3,  5],\n",
       "       [ 7, 11, 14,  0,  2],\n",
       "       [ 3, 15, 22, 11, 16],\n",
       "       [18,  9,  3,  1, 14],\n",
       "       [ 5, 20,  0, 17, 14],\n",
       "       [22, 11,  1, 16,  8],\n",
       "       [20,  7, 11, 20,  8],\n",
       "       [13, 20,  6,  8, 22],\n",
       "       [ 0, 18, 13, 15,  7],\n",
       "       [11, 22,  7, 13, 19],\n",
       "       [ 8, 13, 21,  6, 16],\n",
       "       [10,  4, 18, 11,  2],\n",
       "       [ 1,  5, 18, 20, 23],\n",
       "       [19,  0,  4,  7, 19]])"
      ]
     },
     "execution_count": 31,
     "metadata": {},
     "output_type": "execute_result"
    }
   ],
   "source": [
    "np.argsort(np.argsort(A, axis=0), axis=0) + np.argsort(np.argsort(A, axis=1), axis=1)"
   ]
  },
  {
   "cell_type": "code",
   "execution_count": 35,
   "metadata": {},
   "outputs": [
    {
     "data": {
      "text/plain": [
       "(61,)"
      ]
     },
     "execution_count": 35,
     "metadata": {},
     "output_type": "execute_result"
    }
   ],
   "source": [
    "np.unique(A).shape"
   ]
  },
  {
   "cell_type": "markdown",
   "metadata": {},
   "source": [
    "# Задание 2.5 (2 балла)\n",
    "\n",
    "Примените $\\min-\\max$ - нормализацию к строкам массива `A`. То есть нужно получить новый массивы, в каждой строке которого максимальный элементы равен $1$, минимальный - $0$. "
   ]
  },
  {
   "cell_type": "code",
   "execution_count": 355,
   "metadata": {},
   "outputs": [],
   "source": [
    "rows_count = A.shape[0]\n",
    "min_args = A.min(axis=1).reshape(rows_count, 1)\n",
    "max_args = A.max(axis=1).reshape(rows_count, 1)"
   ]
  },
  {
   "cell_type": "code",
   "execution_count": 356,
   "metadata": {},
   "outputs": [
    {
     "data": {
      "text/plain": [
       "array([[0.59615385, 0.07692308, 1.        , 0.98076923, 0.        ],\n",
       "       [1.        , 0.7012987 , 0.80519481, 0.33766234, 0.        ],\n",
       "       [0.03030303, 1.        , 0.        , 0.96969697, 0.39393939],\n",
       "       [1.        , 0.02702703, 0.24324324, 0.        , 0.48648649],\n",
       "       [0.77966102, 1.        , 0.77966102, 0.        , 0.50847458],\n",
       "       [1.        , 0.08510638, 0.9787234 , 0.        , 0.07446809],\n",
       "       [1.        , 0.76041667, 0.75      , 0.        , 0.78125   ],\n",
       "       [0.39361702, 0.        , 0.9787234 , 0.39361702, 1.        ],\n",
       "       [0.23214286, 0.89285714, 1.        , 0.60714286, 0.        ],\n",
       "       [1.        , 0.5       , 0.36842105, 0.        , 0.59210526],\n",
       "       [0.42857143, 0.65714286, 0.        , 1.        , 0.27142857],\n",
       "       [0.61842105, 0.40789474, 0.43421053, 0.        , 1.        ],\n",
       "       [0.        , 1.        , 0.95652174, 0.62318841, 0.49275362],\n",
       "       [0.46153846, 0.        , 0.86538462, 1.        , 0.30769231],\n",
       "       [0.        , 0.59340659, 0.18681319, 0.07692308, 1.        ],\n",
       "       [0.45977011, 0.26436782, 1.        , 0.73563218, 0.        ],\n",
       "       [1.        , 0.65882353, 0.        , 0.49411765, 0.22352941],\n",
       "       [0.66666667, 0.16666667, 0.        , 0.71428571, 1.        ],\n",
       "       [0.3255814 , 0.11627907, 0.        , 0.53488372, 1.        ],\n",
       "       [0.        , 1.        , 0.65517241, 0.90804598, 0.51724138]])"
      ]
     },
     "execution_count": 356,
     "metadata": {},
     "output_type": "execute_result"
    }
   ],
   "source": [
    "(A - min_args) / (max_args - min_args)"
   ]
  },
  {
   "cell_type": "code",
   "execution_count": null,
   "metadata": {},
   "outputs": [],
   "source": []
  }
 ],
 "metadata": {
  "kernelspec": {
   "display_name": "Python 3.10.6 64-bit",
   "language": "python",
   "name": "python3"
  },
  "language_info": {
   "codemirror_mode": {
    "name": "ipython",
    "version": 3
   },
   "file_extension": ".py",
   "mimetype": "text/x-python",
   "name": "python",
   "nbconvert_exporter": "python",
   "pygments_lexer": "ipython3",
   "version": "3.10.6"
  },
  "orig_nbformat": 4,
  "vscode": {
   "interpreter": {
    "hash": "916dbcbb3f70747c44a77c7bcd40155683ae19c65e1c03b4aa3499c5328201f1"
   }
  }
 },
 "nbformat": 4,
 "nbformat_minor": 2
}
